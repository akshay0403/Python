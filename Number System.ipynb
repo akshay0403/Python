{
 "cells": [
  {
   "cell_type": "markdown",
   "id": "c528b171-37ea-4d16-8dc5-332fea5e67fc",
   "metadata": {},
   "source": [
    "# Number System ( Binary, Octa, Decimal, Hexadecimal )"
   ]
  },
  {
   "cell_type": "markdown",
   "id": "69eec76b-6742-4e2c-896b-8c003b100e4d",
   "metadata": {},
   "source": [
    "# 1) Binary -- Binary takes 2 values -> 0 & 1 ( base value = 2 )"
   ]
  },
  {
   "cell_type": "code",
   "execution_count": 6,
   "id": "8ad75f50-7614-4c5b-a0b0-22320d054d98",
   "metadata": {},
   "outputs": [
    {
     "data": {
      "text/plain": [
       "'0b11001'"
      ]
     },
     "execution_count": 6,
     "metadata": {},
     "output_type": "execute_result"
    }
   ],
   "source": [
    "bin(25)"
   ]
  },
  {
   "cell_type": "code",
   "execution_count": 24,
   "id": "249ba246-9ec7-47a4-a503-95d21949cf58",
   "metadata": {},
   "outputs": [
    {
     "data": {
      "text/plain": [
       "25"
      ]
     },
     "execution_count": 24,
     "metadata": {},
     "output_type": "execute_result"
    }
   ],
   "source": [
    "int(0b11001)"
   ]
  },
  {
   "cell_type": "code",
   "execution_count": 8,
   "id": "a174afc4-920d-4626-b7cf-c6dc34922496",
   "metadata": {},
   "outputs": [
    {
     "data": {
      "text/plain": [
       "'0b10101'"
      ]
     },
     "execution_count": 8,
     "metadata": {},
     "output_type": "execute_result"
    }
   ],
   "source": [
    "bin(21)"
   ]
  },
  {
   "cell_type": "code",
   "execution_count": 26,
   "id": "a82855db-f1b8-4c00-b88b-cb01077af981",
   "metadata": {},
   "outputs": [
    {
     "data": {
      "text/plain": [
       "21"
      ]
     },
     "execution_count": 26,
     "metadata": {},
     "output_type": "execute_result"
    }
   ],
   "source": [
    "int(0b10101)"
   ]
  },
  {
   "cell_type": "markdown",
   "id": "d1e50a4d-9743-498c-b93b-dec4a8cddc33",
   "metadata": {},
   "source": [
    "# 2) Octa -- Octa takes 8 values -> 0 to 7 (base value = 8) "
   ]
  },
  {
   "cell_type": "code",
   "execution_count": 28,
   "id": "1f707d27-46b4-4f9b-91e8-dca7ff9881de",
   "metadata": {},
   "outputs": [
    {
     "data": {
      "text/plain": [
       "'0o135'"
      ]
     },
     "execution_count": 28,
     "metadata": {},
     "output_type": "execute_result"
    }
   ],
   "source": [
    "oct(93)"
   ]
  },
  {
   "cell_type": "code",
   "execution_count": 30,
   "id": "8ae9682e-51d2-47b1-afac-c5453cf42441",
   "metadata": {},
   "outputs": [
    {
     "data": {
      "text/plain": [
       "93"
      ]
     },
     "execution_count": 30,
     "metadata": {},
     "output_type": "execute_result"
    }
   ],
   "source": [
    "int(0o135)"
   ]
  },
  {
   "cell_type": "code",
   "execution_count": 32,
   "id": "4f5fbc21-76a1-4fd9-b2a9-35b492b49713",
   "metadata": {},
   "outputs": [
    {
     "data": {
      "text/plain": [
       "'0o31'"
      ]
     },
     "execution_count": 32,
     "metadata": {},
     "output_type": "execute_result"
    }
   ],
   "source": [
    "oct(25)"
   ]
  },
  {
   "cell_type": "code",
   "execution_count": 34,
   "id": "bb2706cb-c61e-4673-a448-5d909a718cdd",
   "metadata": {},
   "outputs": [
    {
     "data": {
      "text/plain": [
       "25"
      ]
     },
     "execution_count": 34,
     "metadata": {},
     "output_type": "execute_result"
    }
   ],
   "source": [
    "int(0o31)"
   ]
  },
  {
   "cell_type": "markdown",
   "id": "477d3565-b378-4b61-ac12-cc1e4bf7b064",
   "metadata": {},
   "source": [
    "# 3) Decimal -- Decimal takes 10 values -> 0 to 9 (base value = 10)"
   ]
  },
  {
   "cell_type": "code",
   "execution_count": 59,
   "id": "15b57b56-4cd8-42e2-9274-91b5d7efe307",
   "metadata": {},
   "outputs": [
    {
     "data": {
      "text/plain": [
       "100"
      ]
     },
     "execution_count": 59,
     "metadata": {},
     "output_type": "execute_result"
    }
   ],
   "source": [
    "decimal_number = 100\n",
    "int(decimal_number)"
   ]
  },
  {
   "cell_type": "markdown",
   "id": "0fe3ac0a-2545-42f3-b013-b6396a960884",
   "metadata": {},
   "source": [
    "# 4) Hexadecimal -- Hexadecimal takes 16 values -> 0, 1, 2, 3, 4, 5, 6, 7, 8, 9, a = 10, b = 11, c = 12, d = 13, e = 14, f = 15 (base value = 16) "
   ]
  },
  {
   "cell_type": "code",
   "execution_count": 43,
   "id": "6601f0b7-1528-4f38-b263-3dc4dda4981b",
   "metadata": {},
   "outputs": [
    {
     "data": {
      "text/plain": [
       "'0x18'"
      ]
     },
     "execution_count": 43,
     "metadata": {},
     "output_type": "execute_result"
    }
   ],
   "source": [
    "hex(24)"
   ]
  },
  {
   "cell_type": "code",
   "execution_count": 45,
   "id": "7f5c2efe-7392-4868-bc01-569b77e2553f",
   "metadata": {},
   "outputs": [
    {
     "data": {
      "text/plain": [
       "24"
      ]
     },
     "execution_count": 45,
     "metadata": {},
     "output_type": "execute_result"
    }
   ],
   "source": [
    "int(0x18)"
   ]
  },
  {
   "cell_type": "code",
   "execution_count": 47,
   "id": "d01b1712-d6ce-4852-b6e5-30be9e9a26ca",
   "metadata": {},
   "outputs": [
    {
     "data": {
      "text/plain": [
       "'0x6c'"
      ]
     },
     "execution_count": 47,
     "metadata": {},
     "output_type": "execute_result"
    }
   ],
   "source": [
    "hex(108)"
   ]
  },
  {
   "cell_type": "code",
   "execution_count": 49,
   "id": "6846aa76-2023-4472-b975-53a3c82c3870",
   "metadata": {},
   "outputs": [
    {
     "data": {
      "text/plain": [
       "108"
      ]
     },
     "execution_count": 49,
     "metadata": {},
     "output_type": "execute_result"
    }
   ],
   "source": [
    "int(0x6c)"
   ]
  },
  {
   "cell_type": "code",
   "execution_count": null,
   "id": "91ba5a32-8240-4bd2-938a-9e086fe2af76",
   "metadata": {},
   "outputs": [],
   "source": []
  }
 ],
 "metadata": {
  "kernelspec": {
   "display_name": "Python 3 (ipykernel)",
   "language": "python",
   "name": "python3"
  },
  "language_info": {
   "codemirror_mode": {
    "name": "ipython",
    "version": 3
   },
   "file_extension": ".py",
   "mimetype": "text/x-python",
   "name": "python",
   "nbconvert_exporter": "python",
   "pygments_lexer": "ipython3",
   "version": "3.12.7"
  }
 },
 "nbformat": 4,
 "nbformat_minor": 5
}
