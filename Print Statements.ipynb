{
 "cells": [
  {
   "cell_type": "markdown",
   "id": "d9dd4d5e-025a-4afe-a0a9-799a5e07906b",
   "metadata": {},
   "source": [
    "# Printing result with some context"
   ]
  },
  {
   "cell_type": "code",
   "execution_count": 2,
   "id": "49ea0aa2-eeb5-4c31-84b0-48a3e5a7b306",
   "metadata": {},
   "outputs": [
    {
     "name": "stdout",
     "output_type": "stream",
     "text": [
      "Hi, my name is Akshay and I love Trading\n"
     ]
    }
   ],
   "source": [
    "a = 'Akshay'\n",
    "b = 'Trading'\n",
    "print('Hi, my name is',a,'and I love',b)"
   ]
  },
  {
   "cell_type": "markdown",
   "id": "43256949-c85c-44be-8325-e738fa5a8308",
   "metadata": {},
   "source": [
    "# Printing result using 'format' method"
   ]
  },
  {
   "cell_type": "code",
   "execution_count": 10,
   "id": "01e9b9ae-f108-42e6-9177-7515f00c57ea",
   "metadata": {},
   "outputs": [
    {
     "name": "stdout",
     "output_type": "stream",
     "text": [
      "Hi, my name is Akshay and I love Trading\n"
     ]
    }
   ],
   "source": [
    "print(f'Hi, my name is {a} and I love {b}') # this will make the statement a bit more better"
   ]
  },
  {
   "cell_type": "markdown",
   "id": "3f88de48-f9d2-458c-8a87-3c9c5efa0999",
   "metadata": {},
   "source": [
    "# Connecting 2 separate variables using 'end' method"
   ]
  },
  {
   "cell_type": "code",
   "execution_count": 17,
   "id": "77b1be5a-319d-4c3a-ba96-1936b8bb188b",
   "metadata": {},
   "outputs": [
    {
     "name": "stdout",
     "output_type": "stream",
     "text": [
      "Hello Good Morning!\n"
     ]
    }
   ],
   "source": [
    "print('Hello', end=' ') # we are basically connecting the 2 variables using (end =' ')\n",
    "print('Good Morning!')"
   ]
  },
  {
   "cell_type": "markdown",
   "id": "5279d8ac-db0d-49a8-b9b4-5c0ccc5c65a0",
   "metadata": {},
   "source": [
    "# Separating each word using 'sep' method"
   ]
  },
  {
   "cell_type": "code",
   "execution_count": 29,
   "id": "4ed63b85-65c8-4c6f-9bab-1851f1e6ecca",
   "metadata": {},
   "outputs": [
    {
     "name": "stdout",
     "output_type": "stream",
     "text": [
      "Hello ,Good Morning ,how are you.\n"
     ]
    }
   ],
   "source": [
    "print('Hello', 'Good Morning', 'how are you.', sep = ' ,') # I want to separate the words using ',' hence I am using the sep method and using my character"
   ]
  },
  {
   "cell_type": "code",
   "execution_count": null,
   "id": "e24d066f-cf03-49ec-ad48-52cb0d85e4c7",
   "metadata": {},
   "outputs": [],
   "source": []
  }
 ],
 "metadata": {
  "kernelspec": {
   "display_name": "Python 3 (ipykernel)",
   "language": "python",
   "name": "python3"
  },
  "language_info": {
   "codemirror_mode": {
    "name": "ipython",
    "version": 3
   },
   "file_extension": ".py",
   "mimetype": "text/x-python",
   "name": "python",
   "nbconvert_exporter": "python",
   "pygments_lexer": "ipython3",
   "version": "3.12.7"
  }
 },
 "nbformat": 4,
 "nbformat_minor": 5
}
