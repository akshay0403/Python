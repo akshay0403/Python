{
 "cells": [
  {
   "cell_type": "markdown",
   "id": "f643625c-8218-4282-9aa7-861d9eaed03c",
   "metadata": {},
   "source": [
    "# Dictionary"
   ]
  },
  {
   "cell_type": "markdown",
   "id": "e717605c-63e1-4d32-9ea7-e0f18e079b8d",
   "metadata": {},
   "source": [
    "# Dict Creation"
   ]
  },
  {
   "cell_type": "code",
   "execution_count": 3,
   "id": "82632bcd-d237-4515-bb51-bef9ae11a22d",
   "metadata": {},
   "outputs": [
    {
     "data": {
      "text/plain": [
       "{}"
      ]
     },
     "execution_count": 3,
     "metadata": {},
     "output_type": "execute_result"
    }
   ],
   "source": [
    "d = dict() # creates an empty dictionary\n",
    "d"
   ]
  },
  {
   "cell_type": "code",
   "execution_count": 5,
   "id": "cff66b2b-8be4-4fbd-8261-fbe38ce4ddd1",
   "metadata": {},
   "outputs": [
    {
     "data": {
      "text/plain": [
       "{}"
      ]
     },
     "execution_count": 5,
     "metadata": {},
     "output_type": "execute_result"
    }
   ],
   "source": [
    "d = {} # another method to create an empty dictionary\n",
    "d"
   ]
  },
  {
   "cell_type": "code",
   "execution_count": 7,
   "id": "9fe1f747-41de-4741-bf0a-4ced4ff2fdb0",
   "metadata": {},
   "outputs": [
    {
     "data": {
      "text/plain": [
       "{1: 'one', 2: 'two', 3: 'three'}"
      ]
     },
     "execution_count": 7,
     "metadata": {},
     "output_type": "execute_result"
    }
   ],
   "source": [
    "d = {1:'one' , 2:'two' , 3:'three'} # creating dictionary with integer key pairs\n",
    "d"
   ]
  },
  {
   "cell_type": "code",
   "execution_count": 9,
   "id": "f8ea40de-6077-4c1b-a279-c640e1b04dd6",
   "metadata": {},
   "outputs": [
    {
     "data": {
      "text/plain": [
       "{'A': 'one', 'B': 'two', 'C': 'three'}"
      ]
     },
     "execution_count": 9,
     "metadata": {},
     "output_type": "execute_result"
    }
   ],
   "source": [
    "d = {'A':'one' , 'B':'two' , 'C':'three'} # creating dictionary with character key pairs\n",
    "d"
   ]
  },
  {
   "cell_type": "code",
   "execution_count": 11,
   "id": "183cd7ef-2489-4135-a276-99da3b079243",
   "metadata": {},
   "outputs": [
    {
     "data": {
      "text/plain": [
       "{'A': 'one', 1: 'two', 'C': 'three'}"
      ]
     },
     "execution_count": 11,
     "metadata": {},
     "output_type": "execute_result"
    }
   ],
   "source": [
    "d = {'A':'one' , 1:'two' , 'C':'three'} # creating dictionary with mixed key pairs\n",
    "d"
   ]
  },
  {
   "cell_type": "code",
   "execution_count": 15,
   "id": "a3bed7b3-7131-4535-80da-1944f972e515",
   "metadata": {},
   "outputs": [
    {
     "data": {
      "text/plain": [
       "dict_keys(['A', 1, 'C'])"
      ]
     },
     "execution_count": 15,
     "metadata": {},
     "output_type": "execute_result"
    }
   ],
   "source": [
    "d.keys() # returns all the KEYS that we defined"
   ]
  },
  {
   "cell_type": "code",
   "execution_count": 17,
   "id": "e90e1870-6eff-454a-9b87-2e45edc4ecad",
   "metadata": {},
   "outputs": [
    {
     "data": {
      "text/plain": [
       "dict_values(['one', 'two', 'three'])"
      ]
     },
     "execution_count": 17,
     "metadata": {},
     "output_type": "execute_result"
    }
   ],
   "source": [
    "d.values() # returns all the VALUES that we defined"
   ]
  },
  {
   "cell_type": "code",
   "execution_count": 19,
   "id": "61a55b14-55e1-4857-8c82-ef474940b13a",
   "metadata": {},
   "outputs": [
    {
     "data": {
      "text/plain": [
       "dict_items([('A', 'one'), (1, 'two'), ('C', 'three')])"
      ]
     },
     "execution_count": 19,
     "metadata": {},
     "output_type": "execute_result"
    }
   ],
   "source": [
    "d.items() # returns all the key-value pairs that we defined"
   ]
  },
  {
   "cell_type": "code",
   "execution_count": 23,
   "id": "caf099b4-12af-48d6-8f96-9f2986ad3f8d",
   "metadata": {},
   "outputs": [
    {
     "data": {
      "text/plain": [
       "{'A': 'one', 1: 'two', 'C': ['three', 'four', 'five']}"
      ]
     },
     "execution_count": 23,
     "metadata": {},
     "output_type": "execute_result"
    }
   ],
   "source": [
    "d = {'A':'one' , 1:'two' , 'C':['three','four','five']} # creating dictionary with multiple values for one key\n",
    "d"
   ]
  },
  {
   "cell_type": "code",
   "execution_count": 25,
   "id": "d9086c5c-31d9-403b-958d-dea753b83327",
   "metadata": {},
   "outputs": [
    {
     "data": {
      "text/plain": [
       "{1: 'one',\n",
       " 2: 'two',\n",
       " 'a': ['three', 'four', 'five'],\n",
       " 'b': ('six', 'seven', 'eight')}"
      ]
     },
     "execution_count": 25,
     "metadata": {},
     "output_type": "execute_result"
    }
   ],
   "source": [
    "d = {1:'one' , 2:'two' , 'a':['three','four','five'], 'b':('six','seven','eight')} # creating dictionary with multiple values for one key\n",
    "d"
   ]
  },
  {
   "cell_type": "code",
   "execution_count": 29,
   "id": "33dbeb1e-95d0-456a-8d0f-ef3c33d105ab",
   "metadata": {},
   "outputs": [
    {
     "data": {
      "text/plain": [
       "{'a': None, 'c': None, 'b': None, 'd': None}"
      ]
     },
     "execution_count": 29,
     "metadata": {},
     "output_type": "execute_result"
    }
   ],
   "source": [
    "k = {'a','b','c','d'}\n",
    "d1 = d.fromkeys(k) # creates a dictionary with only keys\n",
    "d1"
   ]
  },
  {
   "cell_type": "code",
   "execution_count": 33,
   "id": "cc10663e-05b8-497f-847e-c3213c777702",
   "metadata": {},
   "outputs": [
    {
     "data": {
      "text/plain": [
       "{'a': 7, 'c': 7, 'b': 7, 'd': 7}"
      ]
     },
     "execution_count": 33,
     "metadata": {},
     "output_type": "execute_result"
    }
   ],
   "source": [
    "k = {'a','b','c','d'}\n",
    "v = 7\n",
    "d1 = d.fromkeys(k,v) # creates a dictionary with key-value pair\n",
    "d1"
   ]
  },
  {
   "cell_type": "code",
   "execution_count": 35,
   "id": "c68389dc-a9f1-456c-8328-fa6a1d9f1740",
   "metadata": {},
   "outputs": [
    {
     "data": {
      "text/plain": [
       "{'a': [1, 2, 3, 4], 'c': [1, 2, 3, 4], 'b': [1, 2, 3, 4], 'd': [1, 2, 3, 4]}"
      ]
     },
     "execution_count": 35,
     "metadata": {},
     "output_type": "execute_result"
    }
   ],
   "source": [
    "k = {'a','b','c','d'}\n",
    "v = [1,2,3,4]\n",
    "d1 = d.fromkeys(k,v) # creates a dictionary with key-value pair\n",
    "d1"
   ]
  },
  {
   "cell_type": "code",
   "execution_count": 39,
   "id": "2068fb25-faee-4c65-8948-f9c0a87a3375",
   "metadata": {},
   "outputs": [
    {
     "data": {
      "text/plain": [
       "{'a': [1, 2, 3, 4, 50, 50],\n",
       " 'c': [1, 2, 3, 4, 50, 50],\n",
       " 'b': [1, 2, 3, 4, 50, 50],\n",
       " 'd': [1, 2, 3, 4, 50, 50]}"
      ]
     },
     "execution_count": 39,
     "metadata": {},
     "output_type": "execute_result"
    }
   ],
   "source": [
    "v.append(50) # APPEND function is used to add a value to the dict\n",
    "d1"
   ]
  },
  {
   "cell_type": "markdown",
   "id": "1ea8e340-6b39-4e9b-92e6-eb090ea86a0d",
   "metadata": {},
   "source": [
    "# Accessing Items"
   ]
  },
  {
   "cell_type": "code",
   "execution_count": 42,
   "id": "82d25267-1f46-4298-a2c5-565905a3c96f",
   "metadata": {},
   "outputs": [
    {
     "data": {
      "text/plain": [
       "{1: 'one', 2: 'two', 3: 'three', 4: 'four'}"
      ]
     },
     "execution_count": 42,
     "metadata": {},
     "output_type": "execute_result"
    }
   ],
   "source": [
    "d = {1:'one' , 2:'two' , 3:'three', 4:'four'} \n",
    "d"
   ]
  },
  {
   "cell_type": "code",
   "execution_count": 48,
   "id": "886d1be5-a131-4b08-8283-1b01a3bdbd92",
   "metadata": {},
   "outputs": [
    {
     "data": {
      "text/plain": [
       "'one'"
      ]
     },
     "execution_count": 48,
     "metadata": {},
     "output_type": "execute_result"
    }
   ],
   "source": [
    "d[1] # ACCESSING the value using key"
   ]
  },
  {
   "cell_type": "code",
   "execution_count": 50,
   "id": "ddc75c19-b4f5-4383-b4af-f11407e7a7d7",
   "metadata": {},
   "outputs": [
    {
     "data": {
      "text/plain": [
       "'one'"
      ]
     },
     "execution_count": 50,
     "metadata": {},
     "output_type": "execute_result"
    }
   ],
   "source": [
    "d.get(1) # ACCESSING the value using GET method and key"
   ]
  },
  {
   "cell_type": "code",
   "execution_count": 60,
   "id": "75299989-8dba-4912-975f-4f1fe9d056c3",
   "metadata": {},
   "outputs": [
    {
     "data": {
      "text/plain": [
       "{'Name': 'Akshay', 'ID': 7, 'DOB': 2003, 'job': 'Analyst'}"
      ]
     },
     "execution_count": 60,
     "metadata": {},
     "output_type": "execute_result"
    }
   ],
   "source": [
    "d1 = {'Name':'Akshay' , 'ID': 7 , 'DOB': 2003 , 'job' :'Analyst'}\n",
    "d1"
   ]
  },
  {
   "cell_type": "code",
   "execution_count": 68,
   "id": "0d5c37c7-c487-4adb-b3ea-61732329a6fe",
   "metadata": {},
   "outputs": [
    {
     "data": {
      "text/plain": [
       "'Akshay'"
      ]
     },
     "execution_count": 68,
     "metadata": {},
     "output_type": "execute_result"
    }
   ],
   "source": [
    "d1['Name']"
   ]
  },
  {
   "cell_type": "code",
   "execution_count": 70,
   "id": "03cee78a-e215-450a-8805-4369ab6bd557",
   "metadata": {},
   "outputs": [
    {
     "data": {
      "text/plain": [
       "'Analyst'"
      ]
     },
     "execution_count": 70,
     "metadata": {},
     "output_type": "execute_result"
    }
   ],
   "source": [
    "d1.get('job')"
   ]
  },
  {
   "cell_type": "markdown",
   "id": "74405063-6d43-4c62-b034-21d3b74c6f6b",
   "metadata": {},
   "source": [
    "# Add, Remove and Change Items"
   ]
  },
  {
   "cell_type": "code",
   "execution_count": 87,
   "id": "9c1f673a-06e7-4eaf-bdde-47356e525552",
   "metadata": {},
   "outputs": [
    {
     "data": {
      "text/plain": [
       "{'Name': 'Akshay', 'ID': 7, 'DOB': 2003, 'job': 'Analyst'}"
      ]
     },
     "execution_count": 87,
     "metadata": {},
     "output_type": "execute_result"
    }
   ],
   "source": [
    "d1 = {'Name':'Akshay' , 'ID': 7 , 'DOB': 2003 , 'job' :'Analyst'}\n",
    "d1"
   ]
  },
  {
   "cell_type": "code",
   "execution_count": 89,
   "id": "492f19ec-8dcc-4ba7-b340-55b37ec86d39",
   "metadata": {},
   "outputs": [
    {
     "data": {
      "text/plain": [
       "{'Name': 'Akshay', 'ID': 7, 'DOB': 2000, 'job': 'Trader'}"
      ]
     },
     "execution_count": 89,
     "metadata": {},
     "output_type": "execute_result"
    }
   ],
   "source": [
    "d1['DOB'] = 2000 # change the values of the given key\n",
    "d1['job'] = 'Trader' # change the values of the given key\n",
    "d1"
   ]
  },
  {
   "cell_type": "code",
   "execution_count": 91,
   "id": "023f4c01-2ed3-472c-b4c7-057117f16f03",
   "metadata": {},
   "outputs": [
    {
     "data": {
      "text/plain": [
       "{'Name': 'Akshay', 'ID': 7, 'DOB': 2000, 'job': 'Trader', 'Profit': 50000}"
      ]
     },
     "execution_count": 91,
     "metadata": {},
     "output_type": "execute_result"
    }
   ],
   "source": [
    "d1['Profit'] = 50000 # add key-value pair to a dict\n",
    "d1"
   ]
  },
  {
   "cell_type": "code",
   "execution_count": 93,
   "id": "c72e3f5e-e3aa-4dad-8ead-d90ddca5e684",
   "metadata": {},
   "outputs": [
    {
     "data": {
      "text/plain": [
       "{'Name': 'Akshay', 'DOB': 2000, 'job': 'Trader', 'Profit': 50000}"
      ]
     },
     "execution_count": 93,
     "metadata": {},
     "output_type": "execute_result"
    }
   ],
   "source": [
    "d1.pop('ID') # POP function is used to remove the key-value pair from the dict\n",
    "d1"
   ]
  },
  {
   "cell_type": "code",
   "execution_count": 95,
   "id": "04b06aa0-b955-424c-8afd-a48d7779c594",
   "metadata": {},
   "outputs": [
    {
     "data": {
      "text/plain": [
       "('Profit', 50000)"
      ]
     },
     "execution_count": 95,
     "metadata": {},
     "output_type": "execute_result"
    }
   ],
   "source": [
    "d1.popitem() # POPITEM function is used to remove a random key-value pair from the list"
   ]
  },
  {
   "cell_type": "code",
   "execution_count": 97,
   "id": "7d56282f-01ba-4adc-907b-e08d51ae174d",
   "metadata": {},
   "outputs": [
    {
     "data": {
      "text/plain": [
       "{'Name': 'Akshay', 'DOB': 2000, 'job': 'Trader'}"
      ]
     },
     "execution_count": 97,
     "metadata": {},
     "output_type": "execute_result"
    }
   ],
   "source": [
    "d1"
   ]
  },
  {
   "cell_type": "code",
   "execution_count": 101,
   "id": "5f8ec196-82cd-4dee-97b9-101e155638a5",
   "metadata": {},
   "outputs": [
    {
     "data": {
      "text/plain": [
       "{'Name': 'Akshay', 'job': 'Trader'}"
      ]
     },
     "execution_count": 101,
     "metadata": {},
     "output_type": "execute_result"
    }
   ],
   "source": [
    "del[d1['DOB']] # DEL function can also be used to delete a key-value pair\n",
    "d1"
   ]
  },
  {
   "cell_type": "code",
   "execution_count": 105,
   "id": "d963eeab-27fa-42b0-9248-a0f7725030a2",
   "metadata": {},
   "outputs": [
    {
     "data": {
      "text/plain": [
       "{}"
      ]
     },
     "execution_count": 105,
     "metadata": {},
     "output_type": "execute_result"
    }
   ],
   "source": [
    "d1.clear() # CLEAR function is used to clear all the key-value pairs from the dict\n",
    "d1"
   ]
  },
  {
   "cell_type": "code",
   "execution_count": 107,
   "id": "d7ae325b-5992-4abd-863f-38dc18c35517",
   "metadata": {},
   "outputs": [
    {
     "ename": "NameError",
     "evalue": "name 'd1' is not defined",
     "output_type": "error",
     "traceback": [
      "\u001b[1;31m---------------------------------------------------------------------------\u001b[0m",
      "\u001b[1;31mNameError\u001b[0m                                 Traceback (most recent call last)",
      "Cell \u001b[1;32mIn[107], line 2\u001b[0m\n\u001b[0;32m      1\u001b[0m \u001b[38;5;28;01mdel\u001b[39;00m d1 \u001b[38;5;66;03m# DEL function is used to delete the dict from the memory\u001b[39;00m\n\u001b[1;32m----> 2\u001b[0m d1\n",
      "\u001b[1;31mNameError\u001b[0m: name 'd1' is not defined"
     ]
    }
   ],
   "source": [
    "del d1 # DEL function is used to delete the dict from the memory\n",
    "d1"
   ]
  },
  {
   "cell_type": "markdown",
   "id": "cff3553a-9960-439a-a5fa-c4a8004cdc79",
   "metadata": {},
   "source": [
    "# Copy Dictionary"
   ]
  },
  {
   "cell_type": "code",
   "execution_count": 110,
   "id": "bad56ac7-01fe-400d-aa99-02383a0dfdc0",
   "metadata": {},
   "outputs": [
    {
     "data": {
      "text/plain": [
       "{'Name': 'Akshay', 'ID': 7, 'DOB': 2003, 'job': 'Trader'}"
      ]
     },
     "execution_count": 110,
     "metadata": {},
     "output_type": "execute_result"
    }
   ],
   "source": [
    "d1 = {'Name':'Akshay' , 'ID': 7 , 'DOB': 2003 , 'job' :'Trader'}\n",
    "d1"
   ]
  },
  {
   "cell_type": "code",
   "execution_count": 114,
   "id": "f4353fb8-7a1e-4ab5-b6ca-5ad6bc7cf13f",
   "metadata": {},
   "outputs": [
    {
     "data": {
      "text/plain": [
       "{'Name': 'Akshay', 'ID': 7, 'DOB': 2003, 'job': 'Trader'}"
      ]
     },
     "execution_count": 114,
     "metadata": {},
     "output_type": "execute_result"
    }
   ],
   "source": [
    "d2 = d1 # this method is used to COPY values from one set to another\n",
    "d2"
   ]
  },
  {
   "cell_type": "code",
   "execution_count": 116,
   "id": "a89d31db-9a55-480d-9112-c14ac09554f3",
   "metadata": {},
   "outputs": [
    {
     "data": {
      "text/plain": [
       "(2693353016512, 2693353016512)"
      ]
     },
     "execution_count": 116,
     "metadata": {},
     "output_type": "execute_result"
    }
   ],
   "source": [
    "id(d1), id(d2) # ID function is used to check the address of the variables in the memory, in this case the address will be same as it access values from the same memory location"
   ]
  },
  {
   "cell_type": "code",
   "execution_count": 118,
   "id": "4dcc312b-0c01-4182-8cc6-534a200edfd6",
   "metadata": {},
   "outputs": [],
   "source": [
    "d3 = d1.copy() # COPY function is used to copy values from one dict to another"
   ]
  },
  {
   "cell_type": "markdown",
   "id": "af3d92e3-cbb9-4481-9bbb-4d68ce1ee6d7",
   "metadata": {},
   "source": [
    "# Looping Through a Dict"
   ]
  },
  {
   "cell_type": "code",
   "execution_count": 121,
   "id": "f4caffb1-1069-4128-b516-809265ff4edd",
   "metadata": {},
   "outputs": [
    {
     "data": {
      "text/plain": [
       "{'Name': 'Akshay', 'ID': 7, 'DOB': 2003, 'job': 'Trader'}"
      ]
     },
     "execution_count": 121,
     "metadata": {},
     "output_type": "execute_result"
    }
   ],
   "source": [
    "d1"
   ]
  },
  {
   "cell_type": "code",
   "execution_count": 125,
   "id": "a7783108-5a12-4708-bfb3-48c9143668fa",
   "metadata": {},
   "outputs": [
    {
     "name": "stdout",
     "output_type": "stream",
     "text": [
      "Name : Akshay\n",
      "ID : 7\n",
      "DOB : 2003\n",
      "job : Trader\n"
     ]
    }
   ],
   "source": [
    "for i in d1: # prints all the key-value pair\n",
    "    print(i, ':', d1[i])"
   ]
  },
  {
   "cell_type": "code",
   "execution_count": 127,
   "id": "168f792c-6313-4a39-8942-2b8bdeff26a7",
   "metadata": {},
   "outputs": [
    {
     "name": "stdout",
     "output_type": "stream",
     "text": [
      "Akshay\n",
      "7\n",
      "2003\n",
      "Trader\n"
     ]
    }
   ],
   "source": [
    "for i in d1: # only prints the values\n",
    "    print(d1[i])"
   ]
  },
  {
   "cell_type": "code",
   "execution_count": 129,
   "id": "1001602d-28ea-4a6b-b7ce-a74794f7d4f8",
   "metadata": {},
   "outputs": [
    {
     "name": "stdout",
     "output_type": "stream",
     "text": [
      "Name\n",
      "ID\n",
      "DOB\n",
      "job\n"
     ]
    }
   ],
   "source": [
    "for i in d1: # only prints the keys\n",
    "    print(i)"
   ]
  },
  {
   "cell_type": "markdown",
   "id": "6c9e54dd-ba9c-47bb-877b-8ebe88cda55a",
   "metadata": {},
   "source": [
    "# Dictionary Membership"
   ]
  },
  {
   "cell_type": "code",
   "execution_count": 132,
   "id": "418df206-586e-47d5-a77b-92b5f4695ae1",
   "metadata": {},
   "outputs": [
    {
     "data": {
      "text/plain": [
       "{'Name': 'Akshay', 'ID': 7, 'DOB': 2003, 'job': 'Trader'}"
      ]
     },
     "execution_count": 132,
     "metadata": {},
     "output_type": "execute_result"
    }
   ],
   "source": [
    "d1"
   ]
  },
  {
   "cell_type": "code",
   "execution_count": 134,
   "id": "6ae65ded-7911-4f70-842b-45d637adee98",
   "metadata": {},
   "outputs": [
    {
     "data": {
      "text/plain": [
       "True"
      ]
     },
     "execution_count": 134,
     "metadata": {},
     "output_type": "execute_result"
    }
   ],
   "source": [
    "'Name' in d1 # checks whether the given value is present in the dict or not"
   ]
  },
  {
   "cell_type": "code",
   "execution_count": 136,
   "id": "48c48e1b-57e1-4b82-87fe-fcf074f386d2",
   "metadata": {},
   "outputs": [
    {
     "data": {
      "text/plain": [
       "False"
      ]
     },
     "execution_count": 136,
     "metadata": {},
     "output_type": "execute_result"
    }
   ],
   "source": [
    "'Profit' in d1 # checks whether the given value is present in the dict or not"
   ]
  },
  {
   "cell_type": "code",
   "execution_count": 140,
   "id": "3dc36889-ba34-405f-bcbb-e66b62299142",
   "metadata": {},
   "outputs": [
    {
     "data": {
      "text/plain": [
       "False"
      ]
     },
     "execution_count": 140,
     "metadata": {},
     "output_type": "execute_result"
    }
   ],
   "source": [
    "2003 in d1 # membership can only be done for KEYS, not VALUES"
   ]
  }
 ],
 "metadata": {
  "kernelspec": {
   "display_name": "Python 3 (ipykernel)",
   "language": "python",
   "name": "python3"
  },
  "language_info": {
   "codemirror_mode": {
    "name": "ipython",
    "version": 3
   },
   "file_extension": ".py",
   "mimetype": "text/x-python",
   "name": "python",
   "nbconvert_exporter": "python",
   "pygments_lexer": "ipython3",
   "version": "3.12.7"
  }
 },
 "nbformat": 4,
 "nbformat_minor": 5
}
