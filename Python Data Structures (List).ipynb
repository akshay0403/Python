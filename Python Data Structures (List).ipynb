{
 "cells": [
  {
   "cell_type": "markdown",
   "id": "534e4a76-8e66-40dd-a685-731e82f2e022",
   "metadata": {},
   "source": [
    "# List"
   ]
  },
  {
   "cell_type": "markdown",
   "id": "385e221b-b4b3-46c7-9a0d-cd34f1e57cb3",
   "metadata": {},
   "source": [
    "# List Creation"
   ]
  },
  {
   "cell_type": "code",
   "execution_count": 2,
   "id": "68e93cac-6a34-47b1-9ab5-daaf543ee007",
   "metadata": {},
   "outputs": [],
   "source": [
    "l = [] # we created an empty string"
   ]
  },
  {
   "cell_type": "code",
   "execution_count": 4,
   "id": "c02dacf8-8668-439f-be26-1d5ed7986cb2",
   "metadata": {},
   "outputs": [
    {
     "name": "stdout",
     "output_type": "stream",
     "text": [
      "<class 'list'>\n"
     ]
    }
   ],
   "source": [
    "print(type(l)) # type function tells us the type of the variable created"
   ]
  },
  {
   "cell_type": "code",
   "execution_count": 6,
   "id": "9bbdc24c-4162-491a-bd77-0e5365c7214d",
   "metadata": {},
   "outputs": [],
   "source": [
    "l1 = [1,2,3,4] # lsit can take integer numbers or int data type"
   ]
  },
  {
   "cell_type": "code",
   "execution_count": 8,
   "id": "e28a7d8e-fd73-4b40-ade6-7c8173c30212",
   "metadata": {},
   "outputs": [],
   "source": [
    "l2 = [1.0,2.0,3.0,4.0] # list can take float numbers or float data type"
   ]
  },
  {
   "cell_type": "code",
   "execution_count": 10,
   "id": "fd5c56de-be2d-4887-be64-12c9b3086d3a",
   "metadata": {},
   "outputs": [],
   "source": [
    "l3 = ['a','b','c','d'] # lsit can take characters or string data type"
   ]
  },
  {
   "cell_type": "code",
   "execution_count": 12,
   "id": "0132ac0a-b18b-48f4-b650-af41d55d96f7",
   "metadata": {},
   "outputs": [],
   "source": [
    "l4 = [1,2.0,'c'] # list can take combination of inputs (int, float, string)"
   ]
  },
  {
   "cell_type": "code",
   "execution_count": 14,
   "id": "1b1f188a-5214-4bc3-98b9-447120efd0b4",
   "metadata": {},
   "outputs": [],
   "source": [
    "l5 = ['a',2,[3,4]] # list inside of a list is known as nested list"
   ]
  },
  {
   "cell_type": "code",
   "execution_count": 16,
   "id": "734f5407-75be-45e6-b30e-86f80118e7a9",
   "metadata": {},
   "outputs": [
    {
     "data": {
      "text/plain": [
       "3"
      ]
     },
     "execution_count": 16,
     "metadata": {},
     "output_type": "execute_result"
    }
   ],
   "source": [
    "len(l5) # len gives us the number of values in a list"
   ]
  },
  {
   "cell_type": "markdown",
   "id": "f1853f73-c130-43c0-99c4-b175d00bff1c",
   "metadata": {},
   "source": [
    "# List Indexing"
   ]
  },
  {
   "cell_type": "code",
   "execution_count": 19,
   "id": "198911c8-d2bc-415d-a8a1-cbfd24630940",
   "metadata": {},
   "outputs": [
    {
     "data": {
      "text/plain": [
       "1"
      ]
     },
     "execution_count": 19,
     "metadata": {},
     "output_type": "execute_result"
    }
   ],
   "source": [
    "l1[0] # prints the first value of the list"
   ]
  },
  {
   "cell_type": "code",
   "execution_count": 21,
   "id": "6017780b-b61e-46d8-9840-a35c49e2b22a",
   "metadata": {},
   "outputs": [
    {
     "data": {
      "text/plain": [
       "4"
      ]
     },
     "execution_count": 21,
     "metadata": {},
     "output_type": "execute_result"
    }
   ],
   "source": [
    "l1[-1] # prints the last value of the list"
   ]
  },
  {
   "cell_type": "code",
   "execution_count": 23,
   "id": "59915a93-93a5-45ae-9188-fc6c846e410b",
   "metadata": {},
   "outputs": [
    {
     "data": {
      "text/plain": [
       "'a'"
      ]
     },
     "execution_count": 23,
     "metadata": {},
     "output_type": "execute_result"
    }
   ],
   "source": [
    "l3[0][0] # this is known as nested indexing, this means it first selects the zeroth index value and prints the zeroth index of that value"
   ]
  },
  {
   "cell_type": "markdown",
   "id": "c7325309-8b0c-49a0-95c2-c1a466d7378b",
   "metadata": {},
   "source": [
    "# List Slicing"
   ]
  },
  {
   "cell_type": "code",
   "execution_count": 26,
   "id": "2beb41e0-44d7-4c29-88f1-414f98e5b795",
   "metadata": {},
   "outputs": [],
   "source": [
    "l6  = ['one' , 'two' , 'three' , 'four' , 'five' , 'six' , 'seven' , 'eight']"
   ]
  },
  {
   "cell_type": "code",
   "execution_count": 28,
   "id": "2cd13c2e-077b-49d2-b342-5c2b5600eec2",
   "metadata": {},
   "outputs": [
    {
     "data": {
      "text/plain": [
       "['one', 'two', 'three', 'four', 'five', 'six', 'seven', 'eight']"
      ]
     },
     "execution_count": 28,
     "metadata": {},
     "output_type": "execute_result"
    }
   ],
   "source": [
    "l6[:] # prints the whole list"
   ]
  },
  {
   "cell_type": "code",
   "execution_count": 30,
   "id": "c40ac6bf-5ebc-47f5-8bb1-ffe12fcff93d",
   "metadata": {},
   "outputs": [
    {
     "data": {
      "text/plain": [
       "['one', 'two', 'three']"
      ]
     },
     "execution_count": 30,
     "metadata": {},
     "output_type": "execute_result"
    }
   ],
   "source": [
    "l6[0:3] # prints all the values from oth index to (n-1) index, (3-1-> 2nd index)"
   ]
  },
  {
   "cell_type": "code",
   "execution_count": 32,
   "id": "fbb30b1e-8fbb-4c4b-a8c1-966002d55a21",
   "metadata": {},
   "outputs": [
    {
     "data": {
      "text/plain": [
       "['one', 'two', 'three', 'four', 'five']"
      ]
     },
     "execution_count": 32,
     "metadata": {},
     "output_type": "execute_result"
    }
   ],
   "source": [
    "l6[:5] # prints the fist 5 values"
   ]
  },
  {
   "cell_type": "code",
   "execution_count": 34,
   "id": "42ef16fc-c4a0-4f01-9f20-7a68e09b6e82",
   "metadata": {},
   "outputs": [
    {
     "data": {
      "text/plain": [
       "['four', 'five', 'six', 'seven', 'eight']"
      ]
     },
     "execution_count": 34,
     "metadata": {},
     "output_type": "execute_result"
    }
   ],
   "source": [
    "l6[-5:] # prints the last 5 values"
   ]
  },
  {
   "cell_type": "markdown",
   "id": "c48cbe62-fed0-4f91-b20d-a1c00d313b87",
   "metadata": {},
   "source": [
    "# List Functions"
   ]
  },
  {
   "cell_type": "code",
   "execution_count": 37,
   "id": "22d82a63-2290-4510-805a-5317baae88b0",
   "metadata": {},
   "outputs": [],
   "source": [
    "l7 = ['one' , 'two' , 'three' , 'four' , 'five' , 'six' , 'seven' , 'eight']"
   ]
  },
  {
   "cell_type": "code",
   "execution_count": 39,
   "id": "8b20e3ad-22b1-4995-8012-92e1acb66a50",
   "metadata": {},
   "outputs": [
    {
     "data": {
      "text/plain": [
       "['one', 'two', 'three', 'four', 'five', 'six', 'seven', 'eight', 'nine']"
      ]
     },
     "execution_count": 39,
     "metadata": {},
     "output_type": "execute_result"
    }
   ],
   "source": [
    "l7.append('nine') # APPEND function is used to add an element to the list\n",
    "l7"
   ]
  },
  {
   "cell_type": "code",
   "execution_count": 41,
   "id": "e54ed2d9-1d3b-4c65-a303-3f25b19f786a",
   "metadata": {},
   "outputs": [
    {
     "data": {
      "text/plain": [
       "['one', 'two', 'three', 'four', 'five', 'six', 'seven', 'eight', 'nine', 'ten']"
      ]
     },
     "execution_count": 41,
     "metadata": {},
     "output_type": "execute_result"
    }
   ],
   "source": [
    "l7.insert(9,'ten') # INSERT function is used to add a value at the given index\n",
    "l7"
   ]
  },
  {
   "cell_type": "code",
   "execution_count": 43,
   "id": "4831c52c-ca24-48a9-b7ec-b4e3ac42b4f3",
   "metadata": {},
   "outputs": [
    {
     "data": {
      "text/plain": [
       "['one', 'two', 'three', 'four', 'five', 'six', 'seven', 'eight', 'nine']"
      ]
     },
     "execution_count": 43,
     "metadata": {},
     "output_type": "execute_result"
    }
   ],
   "source": [
    "l7.remove('ten') # REMOVE function is used to remove a particular value from the list\n",
    "l7"
   ]
  },
  {
   "cell_type": "code",
   "execution_count": 45,
   "id": "45aebe63-8af5-4eac-8607-2db197a4ed5b",
   "metadata": {},
   "outputs": [
    {
     "data": {
      "text/plain": [
       "['one', 'two', 'three', 'four', 'five', 'six', 'seven', 'eight']"
      ]
     },
     "execution_count": 45,
     "metadata": {},
     "output_type": "execute_result"
    }
   ],
   "source": [
    "l7.pop() # POP fucntion is used to remove a value from the list, if we don't give any index, it will remove the last element by default\n",
    "l7"
   ]
  },
  {
   "cell_type": "code",
   "execution_count": 47,
   "id": "30d2a7e4-7d6c-4b76-a10d-90b2d148ccc0",
   "metadata": {},
   "outputs": [
    {
     "data": {
      "text/plain": [
       "['one', 'two', 'three', 'four', 'five', 'six', 'seven']"
      ]
     },
     "execution_count": 47,
     "metadata": {},
     "output_type": "execute_result"
    }
   ],
   "source": [
    "l7.pop(7) # POP function is used to remove a value from the list, with the index we specified\n",
    "l7"
   ]
  },
  {
   "cell_type": "code",
   "execution_count": 49,
   "id": "dd67cfb3-ed97-4b07-a9bf-7d7e7b347c99",
   "metadata": {},
   "outputs": [
    {
     "data": {
      "text/plain": [
       "['one', 'two', 'three', 'four', 'five', 'six']"
      ]
     },
     "execution_count": 49,
     "metadata": {},
     "output_type": "execute_result"
    }
   ],
   "source": [
    "del l7[6] # DEL function is used to remove a value with the specified index from the list\n",
    "l7"
   ]
  },
  {
   "cell_type": "code",
   "execution_count": 51,
   "id": "decf43fd-fa4f-47fd-8b26-e84132124c92",
   "metadata": {},
   "outputs": [
    {
     "data": {
      "text/plain": [
       "[1, 2, 3, 'four', 'five', 'six']"
      ]
     },
     "execution_count": 51,
     "metadata": {},
     "output_type": "execute_result"
    }
   ],
   "source": [
    "l7[0] = 1 # this will help us to replace the existing value with a new value\n",
    "l7[1] = 2 # this will help us to replace the existing value with a new value\n",
    "l7[2] = 3 # this will help us to replace the existing value with a new value\n",
    "l7"
   ]
  },
  {
   "cell_type": "code",
   "execution_count": 53,
   "id": "de90f752-891b-422d-a9f0-89b59398fdeb",
   "metadata": {},
   "outputs": [
    {
     "data": {
      "text/plain": [
       "[]"
      ]
     },
     "execution_count": 53,
     "metadata": {},
     "output_type": "execute_result"
    }
   ],
   "source": [
    "l7.clear() # CLEAR function is used to delete all the value from the list, bringing it back to an empty list\n",
    "l7"
   ]
  },
  {
   "cell_type": "code",
   "execution_count": 55,
   "id": "d5b336f9-3f47-4d77-9c04-ff4b43374e13",
   "metadata": {},
   "outputs": [
    {
     "ename": "NameError",
     "evalue": "name 'l7' is not defined",
     "output_type": "error",
     "traceback": [
      "\u001b[1;31m---------------------------------------------------------------------------\u001b[0m",
      "\u001b[1;31mNameError\u001b[0m                                 Traceback (most recent call last)",
      "Cell \u001b[1;32mIn[55], line 2\u001b[0m\n\u001b[0;32m      1\u001b[0m \u001b[38;5;28;01mdel\u001b[39;00m l7 \u001b[38;5;66;03m# DELETE functions deletes the entire list from the memory location\u001b[39;00m\n\u001b[1;32m----> 2\u001b[0m l7\n",
      "\u001b[1;31mNameError\u001b[0m: name 'l7' is not defined"
     ]
    }
   ],
   "source": [
    "del l7 # DELETE functions deletes the entire list from the memory location\n",
    "l7"
   ]
  },
  {
   "cell_type": "markdown",
   "id": "508ec3a7-a42e-43f3-9f24-7d138a75f623",
   "metadata": {},
   "source": [
    "# List Copying"
   ]
  },
  {
   "cell_type": "code",
   "execution_count": 57,
   "id": "311cb648-0cb7-4b70-8370-85a2895156cd",
   "metadata": {},
   "outputs": [],
   "source": [
    "l7 = ['one' , 'two' , 'three' , 'four' , 'five' , 'six' , 'seven' , 'eight']"
   ]
  },
  {
   "cell_type": "code",
   "execution_count": 59,
   "id": "225d4bba-20f5-4709-b93b-5a18766b4ca5",
   "metadata": {},
   "outputs": [
    {
     "data": {
      "text/plain": [
       "['one', 'two', 'three', 'four', 'five', 'six', 'seven', 'eight']"
      ]
     },
     "execution_count": 59,
     "metadata": {},
     "output_type": "execute_result"
    }
   ],
   "source": [
    "l7_clone = l7 # creating a new list and assigning the same values to the new list\n",
    "l7_clone"
   ]
  },
  {
   "cell_type": "code",
   "execution_count": 61,
   "id": "c95a33fe-e434-4e28-a3ce-ff9b9a65875a",
   "metadata": {},
   "outputs": [
    {
     "data": {
      "text/plain": [
       "(2999082061568, 2999082061568)"
      ]
     },
     "execution_count": 61,
     "metadata": {},
     "output_type": "execute_result"
    }
   ],
   "source": [
    "id(l7), id(l7_clone) # it will have the same address in the memory location"
   ]
  },
  {
   "cell_type": "markdown",
   "id": "037697e1-59d1-4472-b502-c537166b4797",
   "metadata": {},
   "source": [
    "# List Joining"
   ]
  },
  {
   "cell_type": "code",
   "execution_count": 64,
   "id": "e1891bfb-bba4-48b0-98e5-8e7a52175db2",
   "metadata": {},
   "outputs": [],
   "source": [
    "l8 = ['one','two','three']\n",
    "l9 = ['four','five','six']"
   ]
  },
  {
   "cell_type": "code",
   "execution_count": 66,
   "id": "ba36bcba-1a6f-41b3-8540-32355cfd9eaa",
   "metadata": {},
   "outputs": [
    {
     "data": {
      "text/plain": [
       "['one', 'two', 'three', 'four', 'five', 'six']"
      ]
     },
     "execution_count": 66,
     "metadata": {},
     "output_type": "execute_result"
    }
   ],
   "source": [
    "l10 = l8 + l9 # (+) is used to join two lists\n",
    "l10"
   ]
  },
  {
   "cell_type": "code",
   "execution_count": 68,
   "id": "f65b75db-3d96-431e-a4fb-da3f6f02c273",
   "metadata": {},
   "outputs": [
    {
     "data": {
      "text/plain": [
       "['one', 'two', 'three', 'four', 'five', 'six']"
      ]
     },
     "execution_count": 68,
     "metadata": {},
     "output_type": "execute_result"
    }
   ],
   "source": [
    "l8.extend(l9) # EXTEND fucntion is used to append one list to another\n",
    "l8"
   ]
  },
  {
   "cell_type": "markdown",
   "id": "5cf20868-e2b3-4561-9d01-6090b216dbcf",
   "metadata": {},
   "source": [
    "# List Membership"
   ]
  },
  {
   "cell_type": "code",
   "execution_count": 71,
   "id": "b05166ae-c788-4adb-a544-2924f52aad5d",
   "metadata": {},
   "outputs": [
    {
     "data": {
      "text/plain": [
       "['one', 'two', 'three', 'four', 'five', 'six']"
      ]
     },
     "execution_count": 71,
     "metadata": {},
     "output_type": "execute_result"
    }
   ],
   "source": [
    "l8"
   ]
  },
  {
   "cell_type": "code",
   "execution_count": 73,
   "id": "78eb8530-895e-47a6-9c0f-8ef1bc60982d",
   "metadata": {},
   "outputs": [
    {
     "data": {
      "text/plain": [
       "True"
      ]
     },
     "execution_count": 73,
     "metadata": {},
     "output_type": "execute_result"
    }
   ],
   "source": [
    "'one' in l8 # we can check wethere the given value exists in the list or not"
   ]
  },
  {
   "cell_type": "code",
   "execution_count": 75,
   "id": "2cc12acf-fd9a-4e70-a897-aeea709275ae",
   "metadata": {},
   "outputs": [
    {
     "data": {
      "text/plain": [
       "False"
      ]
     },
     "execution_count": 75,
     "metadata": {},
     "output_type": "execute_result"
    }
   ],
   "source": [
    "'seven' in l8 # we can check wethere the given value exists in the list or not"
   ]
  },
  {
   "cell_type": "markdown",
   "id": "b4d69f74-3b94-47e7-846f-1f0cfd53db61",
   "metadata": {},
   "source": [
    "# Reverse and Sort the List"
   ]
  },
  {
   "cell_type": "code",
   "execution_count": 97,
   "id": "7e4093d0-d389-4453-a4c4-3cf1d6ef87de",
   "metadata": {},
   "outputs": [
    {
     "data": {
      "text/plain": [
       "['six', 'five', 'four', 'three', 'two', 'one']"
      ]
     },
     "execution_count": 97,
     "metadata": {},
     "output_type": "execute_result"
    }
   ],
   "source": [
    "l8"
   ]
  },
  {
   "cell_type": "code",
   "execution_count": 99,
   "id": "8a576ca2-9855-44d5-a2cb-c95d0f6d79f3",
   "metadata": {},
   "outputs": [
    {
     "data": {
      "text/plain": [
       "['one', 'two', 'three', 'four', 'five', 'six']"
      ]
     },
     "execution_count": 99,
     "metadata": {},
     "output_type": "execute_result"
    }
   ],
   "source": [
    "l8.reverse() # REVERSE function is used to reverse the values in the list\n",
    "l8"
   ]
  },
  {
   "cell_type": "code",
   "execution_count": 101,
   "id": "20643cd8-e7dc-4489-a137-1570ef03023e",
   "metadata": {},
   "outputs": [
    {
     "data": {
      "text/plain": [
       "[9, 5, 2, 99, 12, 88, 34]"
      ]
     },
     "execution_count": 101,
     "metadata": {},
     "output_type": "execute_result"
    }
   ],
   "source": [
    "l10 = [9,5,2,99,12,88,34]\n",
    "l10"
   ]
  },
  {
   "cell_type": "code",
   "execution_count": 103,
   "id": "bd4e3d57-6082-4f77-a25c-1a8efed587a5",
   "metadata": {},
   "outputs": [
    {
     "data": {
      "text/plain": [
       "[2, 5, 9, 12, 34, 88, 99]"
      ]
     },
     "execution_count": 103,
     "metadata": {},
     "output_type": "execute_result"
    }
   ],
   "source": [
    "l10.sort() # SORT function is used to sort the values in ascending order\n",
    "l10"
   ]
  },
  {
   "cell_type": "code",
   "execution_count": 105,
   "id": "0cc09c7a-f001-48cc-be06-4077e3e17c29",
   "metadata": {},
   "outputs": [
    {
     "data": {
      "text/plain": [
       "[99, 88, 34, 12, 9, 5, 2]"
      ]
     },
     "execution_count": 105,
     "metadata": {},
     "output_type": "execute_result"
    }
   ],
   "source": [
    "l10.sort(reverse = True) # SORT function is used to sort the values in descending order\n",
    "l10"
   ]
  },
  {
   "cell_type": "markdown",
   "id": "af05f2d5-29be-4666-85bf-65227454e2e6",
   "metadata": {},
   "source": [
    "# Loop Through a List"
   ]
  },
  {
   "cell_type": "code",
   "execution_count": 110,
   "id": "636c8a44-6279-493e-ab45-00536c4b7627",
   "metadata": {},
   "outputs": [
    {
     "data": {
      "text/plain": [
       "['one', 'two', 'three', 'four', 'five', 'six']"
      ]
     },
     "execution_count": 110,
     "metadata": {},
     "output_type": "execute_result"
    }
   ],
   "source": [
    "l8.reverse()\n",
    "l8"
   ]
  },
  {
   "cell_type": "code",
   "execution_count": 112,
   "id": "266b1ed0-004f-4291-b5e9-965e268ad501",
   "metadata": {},
   "outputs": [
    {
     "name": "stdout",
     "output_type": "stream",
     "text": [
      "one\n",
      "two\n",
      "three\n",
      "four\n",
      "five\n",
      "six\n"
     ]
    }
   ],
   "source": [
    "for i in l8:\n",
    "    print(i)"
   ]
  },
  {
   "cell_type": "markdown",
   "id": "9794f09e-cb67-400a-a000-c0176389a3d1",
   "metadata": {},
   "source": [
    "# List Count"
   ]
  },
  {
   "cell_type": "code",
   "execution_count": 115,
   "id": "e1f96bd0-8ee8-4cd9-b3bc-ac339e1d014e",
   "metadata": {},
   "outputs": [
    {
     "data": {
      "text/plain": [
       "['one', 'two', 'three', 'four', 'five', 'six']"
      ]
     },
     "execution_count": 115,
     "metadata": {},
     "output_type": "execute_result"
    }
   ],
   "source": [
    "l8"
   ]
  },
  {
   "cell_type": "code",
   "execution_count": 119,
   "id": "657158d9-7985-40fb-bd41-f965eb448bc2",
   "metadata": {},
   "outputs": [
    {
     "data": {
      "text/plain": [
       "1"
      ]
     },
     "execution_count": 119,
     "metadata": {},
     "output_type": "execute_result"
    }
   ],
   "source": [
    "l8.count('one') # COUNT function is used to return the number of times a value has occurred"
   ]
  },
  {
   "cell_type": "code",
   "execution_count": 121,
   "id": "45a9dec9-04bd-4af6-8e98-c581baa75714",
   "metadata": {},
   "outputs": [
    {
     "data": {
      "text/plain": [
       "1"
      ]
     },
     "execution_count": 121,
     "metadata": {},
     "output_type": "execute_result"
    }
   ],
   "source": [
    "l8.count('six')"
   ]
  },
  {
   "cell_type": "code",
   "execution_count": null,
   "id": "b6a2a284-18ab-430e-bc50-8d48dde08994",
   "metadata": {},
   "outputs": [],
   "source": []
  }
 ],
 "metadata": {
  "kernelspec": {
   "display_name": "Python 3 (ipykernel)",
   "language": "python",
   "name": "python3"
  },
  "language_info": {
   "codemirror_mode": {
    "name": "ipython",
    "version": 3
   },
   "file_extension": ".py",
   "mimetype": "text/x-python",
   "name": "python",
   "nbconvert_exporter": "python",
   "pygments_lexer": "ipython3",
   "version": "3.12.7"
  }
 },
 "nbformat": 4,
 "nbformat_minor": 5
}
