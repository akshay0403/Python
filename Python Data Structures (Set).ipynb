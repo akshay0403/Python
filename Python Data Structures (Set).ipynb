{
 "cells": [
  {
   "cell_type": "markdown",
   "id": "5a1ac9ca-9bd1-4865-ac85-855401d398cb",
   "metadata": {},
   "source": [
    "# Set"
   ]
  },
  {
   "cell_type": "markdown",
   "id": "e527c6da-f838-4761-ad47-4486917ef20e",
   "metadata": {},
   "source": [
    "# Set Creation"
   ]
  },
  {
   "cell_type": "code",
   "execution_count": 5,
   "id": "bbe226f4-2ff9-42d3-80b1-38a13c989479",
   "metadata": {},
   "outputs": [
    {
     "data": {
      "text/plain": [
       "{1, 2, 3, 4, 5}"
      ]
     },
     "execution_count": 5,
     "metadata": {},
     "output_type": "execute_result"
    }
   ],
   "source": [
    "s = {1,2,3,4,5} # set creation -> int data type\n",
    "s"
   ]
  },
  {
   "cell_type": "code",
   "execution_count": 7,
   "id": "a3eb78d1-bbe6-4ac8-b90b-4b37aad844e8",
   "metadata": {},
   "outputs": [
    {
     "data": {
      "text/plain": [
       "5"
      ]
     },
     "execution_count": 7,
     "metadata": {},
     "output_type": "execute_result"
    }
   ],
   "source": [
    "len(s) # returns the length of the set"
   ]
  },
  {
   "cell_type": "code",
   "execution_count": 9,
   "id": "429b6226-6ac3-41c4-ba70-6a36dc216370",
   "metadata": {},
   "outputs": [
    {
     "data": {
      "text/plain": [
       "{1, 2, 3, 4, 5}"
      ]
     },
     "execution_count": 9,
     "metadata": {},
     "output_type": "execute_result"
    }
   ],
   "source": [
    "s1 = {1,1,2,2,3,4,5,5} # duplicate values are not allowed, hence it prints the set without duplicate values\n",
    "s1"
   ]
  },
  {
   "cell_type": "code",
   "execution_count": 11,
   "id": "051daccc-0e1c-4e00-9794-f8d333ff0208",
   "metadata": {},
   "outputs": [
    {
     "data": {
      "text/plain": [
       "{1.79, 2.08, 3.99, 4.56, 5.45}"
      ]
     },
     "execution_count": 11,
     "metadata": {},
     "output_type": "execute_result"
    }
   ],
   "source": [
    "s2 = {1.79,2.08,3.99,4.56,5.45} # set creation -> float data type\n",
    "s2"
   ]
  },
  {
   "cell_type": "code",
   "execution_count": 13,
   "id": "4ddea04f-788c-4e6e-82c6-03d569f87ceb",
   "metadata": {},
   "outputs": [
    {
     "data": {
      "text/plain": [
       "{'Asif', 'John', 'Tyrion'}"
      ]
     },
     "execution_count": 13,
     "metadata": {},
     "output_type": "execute_result"
    }
   ],
   "source": [
    "s3 = {'Asif' , 'John' , 'Tyrion'} # set creation -> string data type\n",
    "s3"
   ]
  },
  {
   "cell_type": "code",
   "execution_count": 15,
   "id": "0980dcc5-5341-4f66-9b0e-143b5916d9b3",
   "metadata": {},
   "outputs": [
    {
     "data": {
      "text/plain": [
       "{(1, 2, 3), 10, 20, 'Hi'}"
      ]
     },
     "execution_count": 15,
     "metadata": {},
     "output_type": "execute_result"
    }
   ],
   "source": [
    "s4 = {10,20,'Hi',(1,2,3)} # set of mixed data types\n",
    "s4"
   ]
  },
  {
   "cell_type": "code",
   "execution_count": 19,
   "id": "00d2c7ed-0c17-4bdd-b643-dac128ff35fe",
   "metadata": {},
   "outputs": [
    {
     "ename": "TypeError",
     "evalue": "unhashable type: 'list'",
     "output_type": "error",
     "traceback": [
      "\u001b[1;31m---------------------------------------------------------------------------\u001b[0m",
      "\u001b[1;31mTypeError\u001b[0m                                 Traceback (most recent call last)",
      "Cell \u001b[1;32mIn[19], line 1\u001b[0m\n\u001b[1;32m----> 1\u001b[0m s4 \u001b[38;5;241m=\u001b[39m {\u001b[38;5;241m10\u001b[39m,\u001b[38;5;241m20\u001b[39m,\u001b[38;5;124m'\u001b[39m\u001b[38;5;124mHi\u001b[39m\u001b[38;5;124m'\u001b[39m,[\u001b[38;5;241m1\u001b[39m,\u001b[38;5;241m2\u001b[39m,\u001b[38;5;241m3\u001b[39m]} \u001b[38;5;66;03m# set does not allow mutable items like list\u001b[39;00m\n\u001b[0;32m      2\u001b[0m s4\n",
      "\u001b[1;31mTypeError\u001b[0m: unhashable type: 'list'"
     ]
    }
   ],
   "source": [
    "s4 = {10,20,'Hi',[1,2,3]} # set does not allow mutable items like list\n",
    "s4"
   ]
  },
  {
   "cell_type": "code",
   "execution_count": 21,
   "id": "7e21da9a-2dee-48f6-95e5-d2eb955cf74b",
   "metadata": {},
   "outputs": [
    {
     "name": "stdout",
     "output_type": "stream",
     "text": [
      "<class 'set'>\n"
     ]
    }
   ],
   "source": [
    "s4 = set() # creates an empty set\n",
    "print(type(s4))"
   ]
  },
  {
   "cell_type": "markdown",
   "id": "3e9de14e-66c5-498d-b7ad-6236082ec0ea",
   "metadata": {},
   "source": [
    "# Loop Through a Set"
   ]
  },
  {
   "cell_type": "code",
   "execution_count": 72,
   "id": "ccc718cb-7756-49e9-ac9d-f743bf9bad5d",
   "metadata": {},
   "outputs": [
    {
     "data": {
      "text/plain": [
       "{'eight', 'five', 'four', 'one', 'seven', 'six', 'three', 'two'}"
      ]
     },
     "execution_count": 72,
     "metadata": {},
     "output_type": "execute_result"
    }
   ],
   "source": [
    "s5 = {'one', 'two', 'three', 'four', 'five', 'six', 'seven', 'eight'}\n",
    "s5"
   ]
  },
  {
   "cell_type": "code",
   "execution_count": 74,
   "id": "47c0820b-58e8-4815-bbd3-ab594122fe03",
   "metadata": {},
   "outputs": [
    {
     "name": "stdout",
     "output_type": "stream",
     "text": [
      "six\n",
      "eight\n",
      "two\n",
      "three\n",
      "five\n",
      "four\n",
      "one\n",
      "seven\n"
     ]
    }
   ],
   "source": [
    "for i in s5: # prints all the values in the set\n",
    "    print(i)"
   ]
  },
  {
   "cell_type": "code",
   "execution_count": 76,
   "id": "40c1f4f5-0459-4b8b-a6fd-7ce32c9c715c",
   "metadata": {},
   "outputs": [
    {
     "name": "stdout",
     "output_type": "stream",
     "text": [
      "(0, 'six')\n",
      "(1, 'eight')\n",
      "(2, 'two')\n",
      "(3, 'three')\n",
      "(4, 'five')\n",
      "(5, 'four')\n",
      "(6, 'one')\n",
      "(7, 'seven')\n"
     ]
    }
   ],
   "source": [
    "for i in enumerate(s5): # prints all the values in the set with their index\n",
    "    print(i)"
   ]
  },
  {
   "cell_type": "markdown",
   "id": "2d36343e-bce4-49e2-8ead-d8d881c48a63",
   "metadata": {},
   "source": [
    "# Set Membership"
   ]
  },
  {
   "cell_type": "code",
   "execution_count": 79,
   "id": "a7c2aaa0-b4b6-450e-8517-73e37aaa4998",
   "metadata": {},
   "outputs": [
    {
     "data": {
      "text/plain": [
       "{'eight', 'five', 'four', 'one', 'seven', 'six', 'three', 'two'}"
      ]
     },
     "execution_count": 79,
     "metadata": {},
     "output_type": "execute_result"
    }
   ],
   "source": [
    "s5"
   ]
  },
  {
   "cell_type": "code",
   "execution_count": 81,
   "id": "7b8bcd2e-c5c4-4be8-bb54-2973c5a18d0c",
   "metadata": {},
   "outputs": [
    {
     "data": {
      "text/plain": [
       "True"
      ]
     },
     "execution_count": 81,
     "metadata": {},
     "output_type": "execute_result"
    }
   ],
   "source": [
    "'one' in s5 # checks whether the given value is present in the set or not"
   ]
  },
  {
   "cell_type": "code",
   "execution_count": 83,
   "id": "003a4b46-9578-4e2b-9b0c-669b5601d46b",
   "metadata": {},
   "outputs": [
    {
     "data": {
      "text/plain": [
       "False"
      ]
     },
     "execution_count": 83,
     "metadata": {},
     "output_type": "execute_result"
    }
   ],
   "source": [
    "'ten' in s5 # checks whether the given value is present in the set or not"
   ]
  },
  {
   "cell_type": "code",
   "execution_count": 85,
   "id": "9ada0dbb-5443-4d56-8f74-a89e110e1899",
   "metadata": {},
   "outputs": [
    {
     "name": "stdout",
     "output_type": "stream",
     "text": [
      "Two is present in s5\n"
     ]
    }
   ],
   "source": [
    "if 'two'in s5: # checks whether the given value is present in the set or not, using if-else loop\n",
    "    print(\"Two is present in s5\")\n",
    "else:\n",
    "    print(\"Two is not present in s5\")"
   ]
  },
  {
   "cell_type": "code",
   "execution_count": 87,
   "id": "e5a5f8ec-eb08-4561-9aa3-3dc7b0bd96e4",
   "metadata": {},
   "outputs": [
    {
     "name": "stdout",
     "output_type": "stream",
     "text": [
      "Eleven is not present in s5\n"
     ]
    }
   ],
   "source": [
    "if 'eleven'in s5: # checks whether the given value is present in the set or not, using if-else loop\n",
    "    print(\"Eleven is present in s5\")\n",
    "else:\n",
    "    print(\"Eleven is not present in s5\")"
   ]
  },
  {
   "cell_type": "markdown",
   "id": "a9727e95-78ec-4485-9689-301e52aff048",
   "metadata": {},
   "source": [
    "# Add and Remove Items"
   ]
  },
  {
   "cell_type": "code",
   "execution_count": 90,
   "id": "2ab524de-3ee0-4104-9996-92a3216291c0",
   "metadata": {},
   "outputs": [
    {
     "data": {
      "text/plain": [
       "{'eight', 'five', 'four', 'one', 'seven', 'six', 'three', 'two'}"
      ]
     },
     "execution_count": 90,
     "metadata": {},
     "output_type": "execute_result"
    }
   ],
   "source": [
    "s5"
   ]
  },
  {
   "cell_type": "code",
   "execution_count": 92,
   "id": "e0a70845-b6d9-45ed-bd5e-1be91e8ca68e",
   "metadata": {},
   "outputs": [
    {
     "data": {
      "text/plain": [
       "{'eight', 'five', 'four', 'nine', 'one', 'seven', 'six', 'three', 'two'}"
      ]
     },
     "execution_count": 92,
     "metadata": {},
     "output_type": "execute_result"
    }
   ],
   "source": [
    "s5.add('nine') # ADD function is used to add a value to the set\n",
    "s5"
   ]
  },
  {
   "cell_type": "code",
   "execution_count": 96,
   "id": "671d8550-f72b-4e55-871a-e63758b8f381",
   "metadata": {},
   "outputs": [
    {
     "data": {
      "text/plain": [
       "{'eight',\n",
       " 'eleven',\n",
       " 'five',\n",
       " 'four',\n",
       " 'nine',\n",
       " 'one',\n",
       " 'seven',\n",
       " 'six',\n",
       " 'ten',\n",
       " 'three',\n",
       " 'two'}"
      ]
     },
     "execution_count": 96,
     "metadata": {},
     "output_type": "execute_result"
    }
   ],
   "source": [
    "s5.update(['ten','eleven']) # adding multiple values to a set using UPDATE function\n",
    "s5"
   ]
  },
  {
   "cell_type": "code",
   "execution_count": 98,
   "id": "d047b9a0-49e3-4f27-8de4-f60fbcbbc5af",
   "metadata": {},
   "outputs": [
    {
     "data": {
      "text/plain": [
       "{'eight', 'five', 'four', 'nine', 'one', 'seven', 'six', 'ten', 'three', 'two'}"
      ]
     },
     "execution_count": 98,
     "metadata": {},
     "output_type": "execute_result"
    }
   ],
   "source": [
    "s5.remove('eleven') # REMOVE funtion is used to remove a value from the set\n",
    "s5"
   ]
  },
  {
   "cell_type": "code",
   "execution_count": 100,
   "id": "3424d494-789d-4421-957a-6c08a8843201",
   "metadata": {},
   "outputs": [
    {
     "data": {
      "text/plain": [
       "{'eight', 'five', 'four', 'nine', 'one', 'seven', 'six', 'three', 'two'}"
      ]
     },
     "execution_count": 100,
     "metadata": {},
     "output_type": "execute_result"
    }
   ],
   "source": [
    "s5.discard('ten') # DISCARD function is used to remave a value from the list\n",
    "s5"
   ]
  },
  {
   "cell_type": "code",
   "execution_count": 102,
   "id": "5866b7f8-6f63-4411-84a1-049a3ca51148",
   "metadata": {},
   "outputs": [
    {
     "data": {
      "text/plain": [
       "set()"
      ]
     },
     "execution_count": 102,
     "metadata": {},
     "output_type": "execute_result"
    }
   ],
   "source": [
    "s5.clear() # CLEAR function is used to clear/remove all the values from the set\n",
    "s5"
   ]
  },
  {
   "cell_type": "code",
   "execution_count": 106,
   "id": "5c8632a1-8713-437a-a9b1-e3a4dc36b452",
   "metadata": {},
   "outputs": [
    {
     "ename": "NameError",
     "evalue": "name 's5' is not defined",
     "output_type": "error",
     "traceback": [
      "\u001b[1;31m---------------------------------------------------------------------------\u001b[0m",
      "\u001b[1;31mNameError\u001b[0m                                 Traceback (most recent call last)",
      "Cell \u001b[1;32mIn[106], line 1\u001b[0m\n\u001b[1;32m----> 1\u001b[0m \u001b[38;5;28;01mdel\u001b[39;00m s5 \u001b[38;5;66;03m# DELETE function is used to delete the variable from the memory\u001b[39;00m\n\u001b[0;32m      2\u001b[0m s5\n",
      "\u001b[1;31mNameError\u001b[0m: name 's5' is not defined"
     ]
    }
   ],
   "source": [
    "del s5 # DELETE function is used to delete the variable from the memory\n",
    "s5"
   ]
  },
  {
   "cell_type": "markdown",
   "id": "b8f05620-d89e-43c1-a9af-6d4c2b61bbd6",
   "metadata": {},
   "source": [
    "# Copy Set"
   ]
  },
  {
   "cell_type": "code",
   "execution_count": 109,
   "id": "871ad212-38e6-43c8-9291-1e028c96cb5b",
   "metadata": {},
   "outputs": [
    {
     "data": {
      "text/plain": [
       "{'eight', 'five', 'four', 'one', 'seven', 'six', 'three', 'two'}"
      ]
     },
     "execution_count": 109,
     "metadata": {},
     "output_type": "execute_result"
    }
   ],
   "source": [
    "s5 = {'one', 'two', 'three', 'four', 'five', 'six', 'seven', 'eight'} \n",
    "s5"
   ]
  },
  {
   "cell_type": "code",
   "execution_count": 111,
   "id": "58137930-e47c-44be-8590-892018dfa692",
   "metadata": {},
   "outputs": [
    {
     "data": {
      "text/plain": [
       "{'eight', 'five', 'four', 'one', 'seven', 'six', 'three', 'two'}"
      ]
     },
     "execution_count": 111,
     "metadata": {},
     "output_type": "execute_result"
    }
   ],
   "source": [
    "s6 = s5 # this method is used to COPY values from one set to another\n",
    "s6"
   ]
  },
  {
   "cell_type": "code",
   "execution_count": 113,
   "id": "0e05bf8f-1d13-4797-b970-b78c701e50e6",
   "metadata": {},
   "outputs": [
    {
     "data": {
      "text/plain": [
       "(1828032050368, 1828032050368)"
      ]
     },
     "execution_count": 113,
     "metadata": {},
     "output_type": "execute_result"
    }
   ],
   "source": [
    "id(s5), id(s6) # ID function is used to check the address of the variables in the memory, in this case the address will be same as it access values from the same memory location"
   ]
  },
  {
   "cell_type": "code",
   "execution_count": 119,
   "id": "5151a0fb-a92c-42f0-8f77-84cab5826034",
   "metadata": {},
   "outputs": [
    {
     "data": {
      "text/plain": [
       "{'eight', 'five', 'four', 'one', 'seven', 'six', 'three', 'two'}"
      ]
     },
     "execution_count": 119,
     "metadata": {},
     "output_type": "execute_result"
    }
   ],
   "source": [
    "s7 = s5.copy() # COPY function is used to copy values from one set to another\n",
    "s7"
   ]
  },
  {
   "cell_type": "markdown",
   "id": "d2337ac7-ee95-4064-9944-0a5ed203bff4",
   "metadata": {},
   "source": [
    "# Set Operations"
   ]
  },
  {
   "cell_type": "markdown",
   "id": "eca77c7f-b110-4278-8e91-82e59649e6e9",
   "metadata": {},
   "source": [
    "# i) Union Operation"
   ]
  },
  {
   "cell_type": "code",
   "execution_count": 123,
   "id": "7b558793-7661-4e70-8421-25059f0fc3fc",
   "metadata": {},
   "outputs": [],
   "source": [
    "a = {1,2,3,4,5}\n",
    "b = {4,5,6,7,8}\n",
    "c = {8,9,10}"
   ]
  },
  {
   "cell_type": "code",
   "execution_count": 125,
   "id": "8518fc48-8489-4c33-88db-6e6c4a34ab68",
   "metadata": {},
   "outputs": [
    {
     "data": {
      "text/plain": [
       "{1, 2, 3, 4, 5, 6, 7, 8}"
      ]
     },
     "execution_count": 125,
     "metadata": {},
     "output_type": "execute_result"
    }
   ],
   "source": [
    "a | b # '|' is the UNION symbol, which combines 2 variables"
   ]
  },
  {
   "cell_type": "code",
   "execution_count": 127,
   "id": "f4b7e445-43bb-4752-b1c8-77182ac295e0",
   "metadata": {},
   "outputs": [
    {
     "data": {
      "text/plain": [
       "{1, 2, 3, 4, 5, 6, 7, 8}"
      ]
     },
     "execution_count": 127,
     "metadata": {},
     "output_type": "execute_result"
    }
   ],
   "source": [
    "a.union(b) # UNION operation is used to combine 2 variables"
   ]
  },
  {
   "cell_type": "code",
   "execution_count": 129,
   "id": "3c153bc0-9f47-4cdc-b87c-54f59bc3c8c4",
   "metadata": {},
   "outputs": [
    {
     "data": {
      "text/plain": [
       "{1, 2, 3, 4, 5, 6, 7, 8, 9, 10}"
      ]
     },
     "execution_count": 129,
     "metadata": {},
     "output_type": "execute_result"
    }
   ],
   "source": [
    "a.union(b,c) # UNION operation is used to combine 2 variables"
   ]
  },
  {
   "cell_type": "code",
   "execution_count": 133,
   "id": "e502654d-c4bd-48b6-91db-7df5d589fdbd",
   "metadata": {},
   "outputs": [
    {
     "data": {
      "text/plain": [
       "{1, 2, 3, 4, 5, 6, 7, 8}"
      ]
     },
     "execution_count": 133,
     "metadata": {},
     "output_type": "execute_result"
    }
   ],
   "source": [
    "a.update(b) # UPDATE function is used to first combine the 2 sets, and then update the set with the combined values\n",
    "a"
   ]
  },
  {
   "cell_type": "markdown",
   "id": "9c04e4c9-7cca-40b7-9c9d-f964a9bfdf05",
   "metadata": {},
   "source": [
    "# ii) Intersection Operation"
   ]
  },
  {
   "cell_type": "code",
   "execution_count": 136,
   "id": "b0d447fd-6a33-43c3-8073-08caaf5c7d35",
   "metadata": {},
   "outputs": [],
   "source": [
    "a = {1,2,3,4,5}\n",
    "b = {4,5,6,7,8}"
   ]
  },
  {
   "cell_type": "code",
   "execution_count": 138,
   "id": "5fa0c1ef-a1b6-4492-8939-2150e6566203",
   "metadata": {},
   "outputs": [
    {
     "data": {
      "text/plain": [
       "{4, 5}"
      ]
     },
     "execution_count": 138,
     "metadata": {},
     "output_type": "execute_result"
    }
   ],
   "source": [
    "a & b # '&' is an INTERSECTION operation, which is used to find the common values in 2 sets"
   ]
  },
  {
   "cell_type": "code",
   "execution_count": 140,
   "id": "7aac2634-89ba-4796-9e66-f36560cba9a8",
   "metadata": {},
   "outputs": [
    {
     "data": {
      "text/plain": [
       "{4, 5}"
      ]
     },
     "execution_count": 140,
     "metadata": {},
     "output_type": "execute_result"
    }
   ],
   "source": [
    "a.intersection(b) # another way to use INTERSECTION operation, which is used to find the common values in 2 sets"
   ]
  },
  {
   "cell_type": "code",
   "execution_count": 142,
   "id": "c75e5748-5d7a-4aba-ad1c-33d5234d5c53",
   "metadata": {},
   "outputs": [
    {
     "data": {
      "text/plain": [
       "{4, 5}"
      ]
     },
     "execution_count": 142,
     "metadata": {},
     "output_type": "execute_result"
    }
   ],
   "source": [
    "a.intersection_update(b) # this operation is used to first find the common items in both the sets, and then update the respective set\n",
    "a"
   ]
  },
  {
   "cell_type": "markdown",
   "id": "06ac0807-ec2a-4278-90a8-5ad7b0764b0a",
   "metadata": {},
   "source": [
    "# iii) Difference Operation"
   ]
  },
  {
   "cell_type": "code",
   "execution_count": 147,
   "id": "213a5464-34f7-4888-bcb1-8d273f0b148b",
   "metadata": {},
   "outputs": [],
   "source": [
    "a = {1,2,3,4,5}\n",
    "b = {4,5,6,7,8}"
   ]
  },
  {
   "cell_type": "code",
   "execution_count": 149,
   "id": "4790c1a1-fb83-41a6-9331-507818e392b0",
   "metadata": {},
   "outputs": [
    {
     "data": {
      "text/plain": [
       "{1, 2, 3}"
      ]
     },
     "execution_count": 149,
     "metadata": {},
     "output_type": "execute_result"
    }
   ],
   "source": [
    "a - b # '-' is a DIFFERENCE operation, which is used to find the values which are not common in 2 sets"
   ]
  },
  {
   "cell_type": "code",
   "execution_count": 153,
   "id": "ad30a02b-1774-4153-bd53-8ddf8d842531",
   "metadata": {},
   "outputs": [
    {
     "data": {
      "text/plain": [
       "{6, 7, 8}"
      ]
     },
     "execution_count": 153,
     "metadata": {},
     "output_type": "execute_result"
    }
   ],
   "source": [
    "b.difference(a) # another way to use DIFFERENCE operation, which is used to find the values which are not common in 2 sets"
   ]
  },
  {
   "cell_type": "code",
   "execution_count": 155,
   "id": "2b10b7c1-720f-45cf-848c-0c78bac78bff",
   "metadata": {},
   "outputs": [
    {
     "data": {
      "text/plain": [
       "{6, 7, 8}"
      ]
     },
     "execution_count": 155,
     "metadata": {},
     "output_type": "execute_result"
    }
   ],
   "source": [
    "b.difference_update(a) # this operation is used to first find the values which are not common in both the sets, and then update the respective set\n",
    "b"
   ]
  },
  {
   "cell_type": "markdown",
   "id": "16a063ab-ae8c-46b2-8975-299d030609e1",
   "metadata": {},
   "source": [
    "# iv) Symmetric Difference"
   ]
  },
  {
   "cell_type": "code",
   "execution_count": 159,
   "id": "b7816d5a-8a58-4ba1-84b2-184c0840edc9",
   "metadata": {},
   "outputs": [],
   "source": [
    "a = {1,2,3,4,5}\n",
    "b = {4,5,6,7,8}"
   ]
  },
  {
   "cell_type": "code",
   "execution_count": 161,
   "id": "468aa995-bba3-4f11-bd6f-d37073a28b8e",
   "metadata": {},
   "outputs": [
    {
     "data": {
      "text/plain": [
       "{1, 2, 3, 6, 7, 8}"
      ]
     },
     "execution_count": 161,
     "metadata": {},
     "output_type": "execute_result"
    }
   ],
   "source": [
    "a ^ b # '^' is a SYMMETRIC DIFFERENCE operation, which is used to find the values which are not common in 2 sets"
   ]
  },
  {
   "cell_type": "code",
   "execution_count": 163,
   "id": "b8de6011-8a36-4c58-a052-af3aaa0a655a",
   "metadata": {},
   "outputs": [
    {
     "data": {
      "text/plain": [
       "{1, 2, 3, 6, 7, 8}"
      ]
     },
     "execution_count": 163,
     "metadata": {},
     "output_type": "execute_result"
    }
   ],
   "source": [
    "a.symmetric_difference(b) # another way to use SYMMETRIC DIFFERENCE operation, which is used to find the values which are not common in 2 sets"
   ]
  },
  {
   "cell_type": "code",
   "execution_count": 165,
   "id": "dbb989d7-3384-47f3-99cf-bb45e7c06dd7",
   "metadata": {},
   "outputs": [
    {
     "data": {
      "text/plain": [
       "{1, 2, 3, 6, 7, 8}"
      ]
     },
     "execution_count": 165,
     "metadata": {},
     "output_type": "execute_result"
    }
   ],
   "source": [
    "a.symmetric_difference_update(b) # this operation is used to find the values which are not common in 2 sets, and then update the respective set\n",
    "a"
   ]
  },
  {
   "cell_type": "markdown",
   "id": "02da228f-93e1-4931-9de7-b6bdabe8dcc2",
   "metadata": {},
   "source": [
    "# v) Superset (parent), Subset (child), Disjoint (neighbour)"
   ]
  },
  {
   "cell_type": "code",
   "execution_count": 170,
   "id": "8c9fd436-d25c-4761-943a-ea4b90f20736",
   "metadata": {},
   "outputs": [],
   "source": [
    "a = {1,2,3,4,5,6,7,8,9}\n",
    "b = {3,4,5,6,7,8}\n",
    "c = {10,20,30,40}"
   ]
  },
  {
   "cell_type": "code",
   "execution_count": 174,
   "id": "41ab560c-6d65-4923-b360-4947e7640783",
   "metadata": {},
   "outputs": [
    {
     "data": {
      "text/plain": [
       "True"
      ]
     },
     "execution_count": 174,
     "metadata": {},
     "output_type": "execute_result"
    }
   ],
   "source": [
    "b.issubset(a) # subset -> if b is a child of a (prent)"
   ]
  },
  {
   "cell_type": "code",
   "execution_count": 176,
   "id": "30e79bb4-4a2c-4a5b-b779-c8ca28fb6521",
   "metadata": {},
   "outputs": [
    {
     "data": {
      "text/plain": [
       "True"
      ]
     },
     "execution_count": 176,
     "metadata": {},
     "output_type": "execute_result"
    }
   ],
   "source": [
    "a.issuperset(b) # superset -> if a is a parent of b (child)"
   ]
  },
  {
   "cell_type": "code",
   "execution_count": 178,
   "id": "cb53f7c5-1c5d-4526-87fc-5e846fda36ef",
   "metadata": {},
   "outputs": [
    {
     "data": {
      "text/plain": [
       "True"
      ]
     },
     "execution_count": 178,
     "metadata": {},
     "output_type": "execute_result"
    }
   ],
   "source": [
    "c.isdisjoint(a) # disjoint -> if c is a neighbour of a (parent)"
   ]
  },
  {
   "cell_type": "code",
   "execution_count": 180,
   "id": "763d6451-ce8a-452f-897b-37bbdd40a174",
   "metadata": {},
   "outputs": [
    {
     "data": {
      "text/plain": [
       "False"
      ]
     },
     "execution_count": 180,
     "metadata": {},
     "output_type": "execute_result"
    }
   ],
   "source": [
    "b.isdisjoint(a) # disjoint -> if c is a neighbour of a (parent)"
   ]
  },
  {
   "cell_type": "markdown",
   "id": "2ed81d85-429d-4644-801d-0333b4746271",
   "metadata": {},
   "source": [
    "# Built-In Functions"
   ]
  },
  {
   "cell_type": "code",
   "execution_count": 183,
   "id": "f5e2845e-9dec-4b9d-9c83-2aab0c70ddc2",
   "metadata": {},
   "outputs": [
    {
     "data": {
      "text/plain": [
       "{1, 2, 3, 4, 5, 6, 7, 8, 9}"
      ]
     },
     "execution_count": 183,
     "metadata": {},
     "output_type": "execute_result"
    }
   ],
   "source": [
    "a"
   ]
  },
  {
   "cell_type": "code",
   "execution_count": 185,
   "id": "9c5f8b8b-6ada-41ff-afcb-79e784728b1c",
   "metadata": {},
   "outputs": [
    {
     "data": {
      "text/plain": [
       "45"
      ]
     },
     "execution_count": 185,
     "metadata": {},
     "output_type": "execute_result"
    }
   ],
   "source": [
    "sum(a) # prints the sum of all the values in the set"
   ]
  },
  {
   "cell_type": "code",
   "execution_count": 187,
   "id": "bfb1d844-7da7-4214-9107-002da1adf226",
   "metadata": {},
   "outputs": [
    {
     "data": {
      "text/plain": [
       "9"
      ]
     },
     "execution_count": 187,
     "metadata": {},
     "output_type": "execute_result"
    }
   ],
   "source": [
    "max(a) # prints the maximum/highest value in the set"
   ]
  },
  {
   "cell_type": "code",
   "execution_count": 189,
   "id": "2f8a6032-8849-4c8c-af5d-3fabf6e2d5c9",
   "metadata": {},
   "outputs": [
    {
     "data": {
      "text/plain": [
       "1"
      ]
     },
     "execution_count": 189,
     "metadata": {},
     "output_type": "execute_result"
    }
   ],
   "source": [
    "min(a) # prints the minimum/lowest value in the set"
   ]
  },
  {
   "cell_type": "code",
   "execution_count": 191,
   "id": "7d495e09-dc7c-40c0-aa6c-5b149492a9bf",
   "metadata": {},
   "outputs": [
    {
     "data": {
      "text/plain": [
       "9"
      ]
     },
     "execution_count": 191,
     "metadata": {},
     "output_type": "execute_result"
    }
   ],
   "source": [
    "len(a) # prints the length of the set / number of values in a set"
   ]
  },
  {
   "cell_type": "code",
   "execution_count": 193,
   "id": "a869da1b-4196-4772-85b5-f3486ed82afd",
   "metadata": {},
   "outputs": [
    {
     "data": {
      "text/plain": [
       "[(0, 1), (1, 2), (2, 3), (3, 4), (4, 5), (5, 6), (6, 7), (7, 8), (8, 9)]"
      ]
     },
     "execution_count": 193,
     "metadata": {},
     "output_type": "execute_result"
    }
   ],
   "source": [
    "list(enumerate(a)) # prints the values in the set with their index"
   ]
  },
  {
   "cell_type": "code",
   "execution_count": 197,
   "id": "32df74f9-f279-4ad4-a1d1-51d8ccaea43e",
   "metadata": {},
   "outputs": [
    {
     "data": {
      "text/plain": [
       "[1, 2, 3, 4, 5, 6, 7, 8, 9]"
      ]
     },
     "execution_count": 197,
     "metadata": {},
     "output_type": "execute_result"
    }
   ],
   "source": [
    "d = sorted(a) # prints the set values in ascending order\n",
    "d"
   ]
  },
  {
   "cell_type": "code",
   "execution_count": 205,
   "id": "86424d89-3e8d-49e4-a9b5-4ee1146c7e62",
   "metadata": {},
   "outputs": [
    {
     "data": {
      "text/plain": [
       "[9, 8, 7, 6, 5, 4, 3, 2, 1]"
      ]
     },
     "execution_count": 205,
     "metadata": {},
     "output_type": "execute_result"
    }
   ],
   "source": [
    "d = sorted(a, reverse = True) # prints the set values in descending order\n",
    "d"
   ]
  }
 ],
 "metadata": {
  "kernelspec": {
   "display_name": "Python 3 (ipykernel)",
   "language": "python",
   "name": "python3"
  },
  "language_info": {
   "codemirror_mode": {
    "name": "ipython",
    "version": 3
   },
   "file_extension": ".py",
   "mimetype": "text/x-python",
   "name": "python",
   "nbconvert_exporter": "python",
   "pygments_lexer": "ipython3",
   "version": "3.12.7"
  }
 },
 "nbformat": 4,
 "nbformat_minor": 5
}
