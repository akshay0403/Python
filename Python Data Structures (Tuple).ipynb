{
 "cells": [
  {
   "cell_type": "markdown",
   "id": "18d436e5-1fd3-41cf-816c-6d3a02da7291",
   "metadata": {},
   "source": [
    "# Tuple"
   ]
  },
  {
   "cell_type": "markdown",
   "id": "1c5116ab-2d71-4e7f-83e2-82712c0eb3ce",
   "metadata": {},
   "source": [
    "# Tuple Creation"
   ]
  },
  {
   "cell_type": "code",
   "execution_count": 6,
   "id": "3d6821b0-f484-4649-9325-c8a3187d365f",
   "metadata": {},
   "outputs": [
    {
     "data": {
      "text/plain": [
       "()"
      ]
     },
     "execution_count": 6,
     "metadata": {},
     "output_type": "execute_result"
    }
   ],
   "source": [
    "t1 = () # empty tuple is created\n",
    "t1"
   ]
  },
  {
   "cell_type": "code",
   "execution_count": 10,
   "id": "a6256f4d-e159-40a3-b970-67f563ed277c",
   "metadata": {},
   "outputs": [
    {
     "data": {
      "text/plain": [
       "(10, 20, 30)"
      ]
     },
     "execution_count": 10,
     "metadata": {},
     "output_type": "execute_result"
    }
   ],
   "source": [
    "t2 = (10,20,30) # tuple of int data type values are created\n",
    "t2"
   ]
  },
  {
   "cell_type": "code",
   "execution_count": 14,
   "id": "baf0e048-ac78-4e88-8e85-6850b1ef76ea",
   "metadata": {},
   "outputs": [
    {
     "data": {
      "text/plain": [
       "(10.05, 20.06, 30.07)"
      ]
     },
     "execution_count": 14,
     "metadata": {},
     "output_type": "execute_result"
    }
   ],
   "source": [
    "t3 = (10.05,20.06,30.07) # tuple of float data type values are created\n",
    "t3"
   ]
  },
  {
   "cell_type": "code",
   "execution_count": 16,
   "id": "bff9307a-6ba2-45fa-9003-54253b5e0b99",
   "metadata": {},
   "outputs": [
    {
     "data": {
      "text/plain": [
       "('one', 'two', 'three')"
      ]
     },
     "execution_count": 16,
     "metadata": {},
     "output_type": "execute_result"
    }
   ],
   "source": [
    "t4 = ('one','two','three') # tuple of string data type values are created\n",
    "t4"
   ]
  },
  {
   "cell_type": "code",
   "execution_count": 18,
   "id": "91b4bbcc-7607-4110-af77-9af628214f7a",
   "metadata": {},
   "outputs": [
    {
     "data": {
      "text/plain": [
       "('a', 25, (50, 100), (150, 90))"
      ]
     },
     "execution_count": 18,
     "metadata": {},
     "output_type": "execute_result"
    }
   ],
   "source": [
    "t5 = ('a',25,(50,100),(150,90)) # this is called nested tuple\n",
    "t5"
   ]
  },
  {
   "cell_type": "code",
   "execution_count": 20,
   "id": "fd79a402-4e07-470b-8d89-b4883374c1c9",
   "metadata": {},
   "outputs": [
    {
     "data": {
      "text/plain": [
       "(100, 'a', 25.65)"
      ]
     },
     "execution_count": 20,
     "metadata": {},
     "output_type": "execute_result"
    }
   ],
   "source": [
    "t6 = (100,'a',25.65) # tuple of mixed data type values are created\n",
    "t6"
   ]
  },
  {
   "cell_type": "markdown",
   "id": "30c471cf-52f5-466a-8d4a-e6ef330b87d7",
   "metadata": {},
   "source": [
    "# Tuple Indexing"
   ]
  },
  {
   "cell_type": "code",
   "execution_count": 23,
   "id": "1de5747f-031c-4bfc-875f-a5a1acfc725f",
   "metadata": {},
   "outputs": [
    {
     "data": {
      "text/plain": [
       "(10, 20, 30)"
      ]
     },
     "execution_count": 23,
     "metadata": {},
     "output_type": "execute_result"
    }
   ],
   "source": [
    "t2"
   ]
  },
  {
   "cell_type": "code",
   "execution_count": 25,
   "id": "755415e2-635e-4391-ae55-347feab4efea",
   "metadata": {},
   "outputs": [
    {
     "data": {
      "text/plain": [
       "10"
      ]
     },
     "execution_count": 25,
     "metadata": {},
     "output_type": "execute_result"
    }
   ],
   "source": [
    "t2[0] # returns the first element of the tuple"
   ]
  },
  {
   "cell_type": "code",
   "execution_count": 27,
   "id": "7ca1d1aa-6a7a-492a-86e3-14860cd57ca6",
   "metadata": {},
   "outputs": [
    {
     "data": {
      "text/plain": [
       "('one', 'two', 'three')"
      ]
     },
     "execution_count": 27,
     "metadata": {},
     "output_type": "execute_result"
    }
   ],
   "source": [
    "t4"
   ]
  },
  {
   "cell_type": "code",
   "execution_count": 29,
   "id": "e1efb3cb-4c94-4f26-81b5-a1c656a4fa35",
   "metadata": {},
   "outputs": [
    {
     "data": {
      "text/plain": [
       "'one'"
      ]
     },
     "execution_count": 29,
     "metadata": {},
     "output_type": "execute_result"
    }
   ],
   "source": [
    "t4[0] # returns the first element of the tuple"
   ]
  },
  {
   "cell_type": "code",
   "execution_count": 35,
   "id": "7ff86674-c056-403c-957d-1b092c51bac2",
   "metadata": {},
   "outputs": [
    {
     "data": {
      "text/plain": [
       "'o'"
      ]
     },
     "execution_count": 35,
     "metadata": {},
     "output_type": "execute_result"
    }
   ],
   "source": [
    "t4[0][0] # returns the first character of the first tuple value, known as nested indexing"
   ]
  },
  {
   "cell_type": "code",
   "execution_count": 37,
   "id": "33e8f781-314c-4a14-b5f0-f2a62f216326",
   "metadata": {},
   "outputs": [
    {
     "data": {
      "text/plain": [
       "'three'"
      ]
     },
     "execution_count": 37,
     "metadata": {},
     "output_type": "execute_result"
    }
   ],
   "source": [
    "t4[-1] # returns the last value of the tuple, knows as backward indexing"
   ]
  },
  {
   "cell_type": "markdown",
   "id": "b832fe0c-705f-49ac-abf1-1d91a53b8f2e",
   "metadata": {},
   "source": [
    "# Tuple Slicing"
   ]
  },
  {
   "cell_type": "code",
   "execution_count": 40,
   "id": "907d894a-2eff-490f-a459-a29797cf0808",
   "metadata": {},
   "outputs": [
    {
     "data": {
      "text/plain": [
       "('one', 'two', 'three', 'four', 'five', 'six', 'seven', 'eight')"
      ]
     },
     "execution_count": 40,
     "metadata": {},
     "output_type": "execute_result"
    }
   ],
   "source": [
    "t = ('one','two','three', 'four', 'five', 'six', 'seven', 'eight')\n",
    "t"
   ]
  },
  {
   "cell_type": "code",
   "execution_count": 42,
   "id": "ae6a1d7f-e2b5-4833-bb72-912578b5bf96",
   "metadata": {},
   "outputs": [
    {
     "data": {
      "text/plain": [
       "('one', 'two', 'three')"
      ]
     },
     "execution_count": 42,
     "metadata": {},
     "output_type": "execute_result"
    }
   ],
   "source": [
    "t[0:3] # returns the values from zeroth index to n-1 index (3-1=2) index"
   ]
  },
  {
   "cell_type": "code",
   "execution_count": 44,
   "id": "cec4b3ab-fdb2-4a73-ba4c-304ef676a75e",
   "metadata": {},
   "outputs": [
    {
     "data": {
      "text/plain": [
       "('three', 'four', 'five')"
      ]
     },
     "execution_count": 44,
     "metadata": {},
     "output_type": "execute_result"
    }
   ],
   "source": [
    "t[2:5] # return the values from 2nd index to n-1 index (5-1=4) index"
   ]
  },
  {
   "cell_type": "code",
   "execution_count": 46,
   "id": "9a288960-e0e1-4761-abf0-28609e66758e",
   "metadata": {},
   "outputs": [
    {
     "data": {
      "text/plain": [
       "('one', 'two', 'three')"
      ]
     },
     "execution_count": 46,
     "metadata": {},
     "output_type": "execute_result"
    }
   ],
   "source": [
    "t[:3] # returns the values from start to n-1 index (3-1=2) index"
   ]
  },
  {
   "cell_type": "code",
   "execution_count": 48,
   "id": "a284e033-7333-4d61-96c0-a4e89519adb4",
   "metadata": {},
   "outputs": [
    {
     "data": {
      "text/plain": [
       "('one', 'two')"
      ]
     },
     "execution_count": 48,
     "metadata": {},
     "output_type": "execute_result"
    }
   ],
   "source": [
    "t[:2] # returns the values from start to n-1 index (2-1=1) index"
   ]
  },
  {
   "cell_type": "code",
   "execution_count": 50,
   "id": "a3a72d98-65d8-44e4-8b99-9b2446b38be3",
   "metadata": {},
   "outputs": [
    {
     "data": {
      "text/plain": [
       "('six', 'seven', 'eight')"
      ]
     },
     "execution_count": 50,
     "metadata": {},
     "output_type": "execute_result"
    }
   ],
   "source": [
    "t[-3:] # returns the values from last to -3 index"
   ]
  },
  {
   "cell_type": "code",
   "execution_count": 52,
   "id": "1943692d-1a5d-45da-a03b-8deb9d62e421",
   "metadata": {},
   "outputs": [
    {
     "data": {
      "text/plain": [
       "('seven', 'eight')"
      ]
     },
     "execution_count": 52,
     "metadata": {},
     "output_type": "execute_result"
    }
   ],
   "source": [
    "t[-2:] # returns the values from last to -2 index"
   ]
  },
  {
   "cell_type": "code",
   "execution_count": 54,
   "id": "3de9b6f5-a735-4b00-81fb-922e0e9cb6cf",
   "metadata": {},
   "outputs": [
    {
     "data": {
      "text/plain": [
       "('one', 'two', 'three', 'four', 'five', 'six', 'seven', 'eight')"
      ]
     },
     "execution_count": 54,
     "metadata": {},
     "output_type": "execute_result"
    }
   ],
   "source": [
    "t[:] # returns entire values in the tuple"
   ]
  },
  {
   "cell_type": "markdown",
   "id": "85a0233c-3aaa-4c24-a584-513620aa33f5",
   "metadata": {},
   "source": [
    "# Remove and Change Items"
   ]
  },
  {
   "cell_type": "code",
   "execution_count": 57,
   "id": "80e75f49-8e60-41dd-acb8-fee94193095e",
   "metadata": {},
   "outputs": [
    {
     "data": {
      "text/plain": [
       "('one', 'two', 'three', 'four', 'five', 'six', 'seven', 'eight')"
      ]
     },
     "execution_count": 57,
     "metadata": {},
     "output_type": "execute_result"
    }
   ],
   "source": [
    "t"
   ]
  },
  {
   "cell_type": "code",
   "execution_count": 59,
   "id": "a252e7e3-4cfb-4455-bc77-b6cfdadccfef",
   "metadata": {},
   "outputs": [
    {
     "ename": "TypeError",
     "evalue": "'tuple' object doesn't support item deletion",
     "output_type": "error",
     "traceback": [
      "\u001b[1;31m---------------------------------------------------------------------------\u001b[0m",
      "\u001b[1;31mTypeError\u001b[0m                                 Traceback (most recent call last)",
      "Cell \u001b[1;32mIn[59], line 1\u001b[0m\n\u001b[1;32m----> 1\u001b[0m \u001b[38;5;28;01mdel\u001b[39;00m t[\u001b[38;5;241m0\u001b[39m]\n",
      "\u001b[1;31mTypeError\u001b[0m: 'tuple' object doesn't support item deletion"
     ]
    }
   ],
   "source": [
    "del t[0] # tuple are immutable, we cannot DELETE tuple items"
   ]
  },
  {
   "cell_type": "code",
   "execution_count": 61,
   "id": "d1df7034-d058-4851-b645-6a013ee0427a",
   "metadata": {},
   "outputs": [
    {
     "ename": "TypeError",
     "evalue": "'tuple' object does not support item assignment",
     "output_type": "error",
     "traceback": [
      "\u001b[1;31m---------------------------------------------------------------------------\u001b[0m",
      "\u001b[1;31mTypeError\u001b[0m                                 Traceback (most recent call last)",
      "Cell \u001b[1;32mIn[61], line 1\u001b[0m\n\u001b[1;32m----> 1\u001b[0m t[\u001b[38;5;241m0\u001b[39m] \u001b[38;5;241m=\u001b[39m \u001b[38;5;241m1\u001b[39m\n",
      "\u001b[1;31mTypeError\u001b[0m: 'tuple' object does not support item assignment"
     ]
    }
   ],
   "source": [
    "t[0] = 1 # tuple are immutable, we cannot CHANGE tuple items"
   ]
  },
  {
   "cell_type": "code",
   "execution_count": 63,
   "id": "cefadfee-b99d-47d3-a437-29a3798d3018",
   "metadata": {},
   "outputs": [],
   "source": [
    "del t # DELETE entrire tuple is possible, but not values inside a tuple"
   ]
  },
  {
   "cell_type": "markdown",
   "id": "46b06b30-fafb-4797-9167-55dfdd661a34",
   "metadata": {},
   "source": [
    "# Loop Through a Tuple"
   ]
  },
  {
   "cell_type": "code",
   "execution_count": 68,
   "id": "8513ed49-6c82-414a-b09f-e99fdc95392d",
   "metadata": {},
   "outputs": [
    {
     "data": {
      "text/plain": [
       "('one', 'two', 'three', 'four', 'five', 'six', 'seven', 'eight')"
      ]
     },
     "execution_count": 68,
     "metadata": {},
     "output_type": "execute_result"
    }
   ],
   "source": [
    "t = ('one','two','three', 'four', 'five', 'six', 'seven', 'eight')\n",
    "t"
   ]
  },
  {
   "cell_type": "code",
   "execution_count": 72,
   "id": "54f75a2a-5f4b-4bad-8091-508c93ee4798",
   "metadata": {},
   "outputs": [
    {
     "name": "stdout",
     "output_type": "stream",
     "text": [
      "one\n",
      "two\n",
      "three\n",
      "four\n",
      "five\n",
      "six\n",
      "seven\n",
      "eight\n"
     ]
    }
   ],
   "source": [
    "for i in t: # prints all the values in the tuple\n",
    "    print(i)"
   ]
  },
  {
   "cell_type": "code",
   "execution_count": 74,
   "id": "785f64f1-25f4-40a8-8bdf-0a5415f903c8",
   "metadata": {},
   "outputs": [
    {
     "name": "stdout",
     "output_type": "stream",
     "text": [
      "(0, 'one')\n",
      "(1, 'two')\n",
      "(2, 'three')\n",
      "(3, 'four')\n",
      "(4, 'five')\n",
      "(5, 'six')\n",
      "(6, 'seven')\n",
      "(7, 'eight')\n"
     ]
    }
   ],
   "source": [
    "for i in enumerate(t): # prints all the values with their index in a tuple\n",
    "    print(i)"
   ]
  },
  {
   "cell_type": "markdown",
   "id": "0c31bc7d-9b9e-4c82-b321-c3a5a9acf076",
   "metadata": {},
   "source": [
    "# Tuple Membership"
   ]
  },
  {
   "cell_type": "code",
   "execution_count": 77,
   "id": "9b0543d4-3ece-4b9b-a7c2-f373d8af20f0",
   "metadata": {},
   "outputs": [
    {
     "data": {
      "text/plain": [
       "('one', 'two', 'three', 'four', 'five', 'six', 'seven', 'eight')"
      ]
     },
     "execution_count": 77,
     "metadata": {},
     "output_type": "execute_result"
    }
   ],
   "source": [
    "t"
   ]
  },
  {
   "cell_type": "code",
   "execution_count": 79,
   "id": "f1a325d9-58e7-467b-8c84-9f1b2fcc0e85",
   "metadata": {},
   "outputs": [
    {
     "data": {
      "text/plain": [
       "True"
      ]
     },
     "execution_count": 79,
     "metadata": {},
     "output_type": "execute_result"
    }
   ],
   "source": [
    "'one' in t # checks whether the given value is present in the tuple or not"
   ]
  },
  {
   "cell_type": "code",
   "execution_count": 83,
   "id": "60251f1b-7d10-429b-9463-3173d54ecdfd",
   "metadata": {},
   "outputs": [
    {
     "data": {
      "text/plain": [
       "False"
      ]
     },
     "execution_count": 83,
     "metadata": {},
     "output_type": "execute_result"
    }
   ],
   "source": [
    "'ten' in t # checks whether the given value is present in the tuple or not"
   ]
  },
  {
   "cell_type": "code",
   "execution_count": 87,
   "id": "f8be1ddd-e7f6-4f09-ac6c-0c7a8d520df5",
   "metadata": {},
   "outputs": [
    {
     "name": "stdout",
     "output_type": "stream",
     "text": [
      "Three is present in the tuple\n"
     ]
    }
   ],
   "source": [
    "if 'three' in t: # checks whether the given value is present in the tuple or not, using if-else loop\n",
    "    print('Three is present in the tuple')\n",
    "else:\n",
    "    print('Three is not present in the tuple')"
   ]
  },
  {
   "cell_type": "code",
   "execution_count": 91,
   "id": "c962246d-3f45-41f8-bfee-e87957973b1a",
   "metadata": {},
   "outputs": [
    {
     "name": "stdout",
     "output_type": "stream",
     "text": [
      "Eleven is not present in the tuple\n"
     ]
    }
   ],
   "source": [
    "if 'eleven' in t: # checks whether the given value is present in the tuple or not, using if-else loop\n",
    "    print('Eleven is present in the tuple')\n",
    "else:\n",
    "    print('Eleven is not present in the tuple')"
   ]
  },
  {
   "cell_type": "markdown",
   "id": "002b0b5d-f3c6-43d6-a66d-4f4b65427922",
   "metadata": {},
   "source": [
    "# Index Position"
   ]
  },
  {
   "cell_type": "code",
   "execution_count": 96,
   "id": "fbc49b31-55a2-49b2-aba2-e0d798e68ee4",
   "metadata": {},
   "outputs": [
    {
     "data": {
      "text/plain": [
       "('one', 'two', 'three', 'four', 'five', 'six', 'seven', 'eight')"
      ]
     },
     "execution_count": 96,
     "metadata": {},
     "output_type": "execute_result"
    }
   ],
   "source": [
    "t"
   ]
  },
  {
   "cell_type": "code",
   "execution_count": 98,
   "id": "8cd2d11d-bfad-4582-ac03-fa55a7eefebb",
   "metadata": {},
   "outputs": [
    {
     "data": {
      "text/plain": [
       "0"
      ]
     },
     "execution_count": 98,
     "metadata": {},
     "output_type": "execute_result"
    }
   ],
   "source": [
    "t.index('one') # returns the index of the given parameter/argument (value)"
   ]
  },
  {
   "cell_type": "code",
   "execution_count": 100,
   "id": "42f87bab-3646-4360-8a2a-3cd84c1a2a87",
   "metadata": {},
   "outputs": [
    {
     "data": {
      "text/plain": [
       "7"
      ]
     },
     "execution_count": 100,
     "metadata": {},
     "output_type": "execute_result"
    }
   ],
   "source": [
    "t.index('eight') # returns the index of the given parameter/argument (value)"
   ]
  },
  {
   "cell_type": "markdown",
   "id": "9cd9dbb6-48b9-439e-b74c-b1711ec1a3b0",
   "metadata": {},
   "source": [
    "# Sorting"
   ]
  },
  {
   "cell_type": "code",
   "execution_count": 103,
   "id": "d4ddb15c-3527-473b-9618-c7d8824b5482",
   "metadata": {},
   "outputs": [
    {
     "data": {
      "text/plain": [
       "(43, 67, 99, 12, 6, 90, 67)"
      ]
     },
     "execution_count": 103,
     "metadata": {},
     "output_type": "execute_result"
    }
   ],
   "source": [
    "t7 = (43,67,99,12,6,90,67)\n",
    "t7"
   ]
  },
  {
   "cell_type": "code",
   "execution_count": 109,
   "id": "68d2a1bb-f467-4b95-92d3-285d432f0499",
   "metadata": {},
   "outputs": [
    {
     "data": {
      "text/plain": [
       "[6, 12, 43, 67, 67, 90, 99]"
      ]
     },
     "execution_count": 109,
     "metadata": {},
     "output_type": "execute_result"
    }
   ],
   "source": [
    "sorted(t7) # returns a sorted list"
   ]
  },
  {
   "cell_type": "code",
   "execution_count": 111,
   "id": "c0984c3f-641a-4bdd-9667-3ef3d469386b",
   "metadata": {},
   "outputs": [
    {
     "data": {
      "text/plain": [
       "[99, 90, 67, 67, 43, 12, 6]"
      ]
     },
     "execution_count": 111,
     "metadata": {},
     "output_type": "execute_result"
    }
   ],
   "source": [
    "sorted(t7, reverse = True) # retuens a sorted list in descending order"
   ]
  },
  {
   "cell_type": "code",
   "execution_count": null,
   "id": "d9f76908-edba-4529-8a2b-334bf73beaa1",
   "metadata": {},
   "outputs": [],
   "source": []
  }
 ],
 "metadata": {
  "kernelspec": {
   "display_name": "Python 3 (ipykernel)",
   "language": "python",
   "name": "python3"
  },
  "language_info": {
   "codemirror_mode": {
    "name": "ipython",
    "version": 3
   },
   "file_extension": ".py",
   "mimetype": "text/x-python",
   "name": "python",
   "nbconvert_exporter": "python",
   "pygments_lexer": "ipython3",
   "version": "3.12.7"
  }
 },
 "nbformat": 4,
 "nbformat_minor": 5
}
