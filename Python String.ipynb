{
 "cells": [
  {
   "cell_type": "markdown",
   "id": "3e0dd005-3a93-439f-992e-6ca566b51dc9",
   "metadata": {},
   "source": [
    "# Python String"
   ]
  },
  {
   "cell_type": "markdown",
   "id": "ed6b2d04-91d6-4d4c-aa2a-148039093279",
   "metadata": {},
   "source": [
    "# String Manipulation"
   ]
  },
  {
   "cell_type": "markdown",
   "id": "f5e1484c-df8a-42db-8138-8eab669a5f78",
   "metadata": {},
   "source": [
    "# 1) Escape Characters"
   ]
  },
  {
   "cell_type": "code",
   "execution_count": 13,
   "id": "6a6503eb-08ed-4bba-b8e5-4176a73d5cf3",
   "metadata": {},
   "outputs": [
    {
     "name": "stdout",
     "output_type": "stream",
     "text": [
      "Hi! My name is Akshay'\n"
     ]
    }
   ],
   "source": [
    "print(\"Hi! My name is Akshay\\'\") # [\\'] -> is used to add a single quote"
   ]
  },
  {
   "cell_type": "code",
   "execution_count": 17,
   "id": "357ca217-bca8-4258-bd63-0f3e611a61a0",
   "metadata": {},
   "outputs": [
    {
     "name": "stdout",
     "output_type": "stream",
     "text": [
      "Hi! My name is Akshay\"\n"
     ]
    }
   ],
   "source": [
    "print(\"Hi! My name is Akshay\\\"\") # [\\\"] -> is used to add a single quote"
   ]
  },
  {
   "cell_type": "code",
   "execution_count": 23,
   "id": "841d2fc6-d00a-43a4-a24b-a8b4761827f4",
   "metadata": {},
   "outputs": [
    {
     "name": "stdout",
     "output_type": "stream",
     "text": [
      "Hi! My name is Akshay\t I like Trading\n"
     ]
    }
   ],
   "source": [
    "print(\"Hi! My name is Akshay\\t I like Trading\") # [\\t] -> is used to add a tab space in between sentences"
   ]
  },
  {
   "cell_type": "code",
   "execution_count": 27,
   "id": "c7ff6e58-8802-4423-929e-50e67ef2074b",
   "metadata": {},
   "outputs": [
    {
     "name": "stdout",
     "output_type": "stream",
     "text": [
      "Hi! My name is Akshay\n",
      "I like Trading\n"
     ]
    }
   ],
   "source": [
    "print(\"Hi! My name is Akshay\\nI like Trading\") # [\\n] -> is used to add the sentence in next line"
   ]
  },
  {
   "cell_type": "code",
   "execution_count": 31,
   "id": "edb8b80b-3b42-4beb-a29d-32eefc0f18b7",
   "metadata": {},
   "outputs": [
    {
     "name": "stdout",
     "output_type": "stream",
     "text": [
      "Hi! My name is Akshay\\\n"
     ]
    }
   ],
   "source": [
    "print(\"Hi! My name is Akshay\\\\\") # [\\\\] -> is used to add a backslash"
   ]
  },
  {
   "cell_type": "code",
   "execution_count": 35,
   "id": "c45499b9-6b32-40af-979c-361e33313cb3",
   "metadata": {},
   "outputs": [
    {
     "name": "stdout",
     "output_type": "stream",
     "text": [
      "Hi! My name is Aksha\n"
     ]
    }
   ],
   "source": [
    "print(\"Hi! My name is Akshay\\b\") # [\\b] -> is used to remove the previous letter (backspace)"
   ]
  },
  {
   "cell_type": "markdown",
   "id": "6b6f336b-04e2-4aa5-8bdd-6c7e562a05d5",
   "metadata": {},
   "source": [
    "# 2) Indexing and Slicing Strings"
   ]
  },
  {
   "cell_type": "code",
   "execution_count": 42,
   "id": "c9a5bbfd-c977-46f8-a011-57269edce685",
   "metadata": {},
   "outputs": [],
   "source": [
    "s = 'Hello World!'"
   ]
  },
  {
   "cell_type": "code",
   "execution_count": 44,
   "id": "8c616df4-f096-40ab-83e9-fd5c3ceab715",
   "metadata": {},
   "outputs": [
    {
     "data": {
      "text/plain": [
       "'H'"
      ]
     },
     "execution_count": 44,
     "metadata": {},
     "output_type": "execute_result"
    }
   ],
   "source": [
    "s[0] # returns the first index value (forward indexing)"
   ]
  },
  {
   "cell_type": "code",
   "execution_count": 46,
   "id": "3eb97b4c-da73-4ae5-9819-1f6a017293b1",
   "metadata": {},
   "outputs": [
    {
     "data": {
      "text/plain": [
       "'o'"
      ]
     },
     "execution_count": 46,
     "metadata": {},
     "output_type": "execute_result"
    }
   ],
   "source": [
    "s[4] # returns the fourth index value (forward indexing)"
   ]
  },
  {
   "cell_type": "code",
   "execution_count": 48,
   "id": "71252e3a-5f74-433d-9c96-a7c70d274057",
   "metadata": {},
   "outputs": [
    {
     "data": {
      "text/plain": [
       "'!'"
      ]
     },
     "execution_count": 48,
     "metadata": {},
     "output_type": "execute_result"
    }
   ],
   "source": [
    "s[-1] # returns the last index value (backward indexing)"
   ]
  },
  {
   "cell_type": "code",
   "execution_count": 50,
   "id": "996e59f8-70e2-44e4-8621-e8e8f3424da5",
   "metadata": {},
   "outputs": [
    {
     "data": {
      "text/plain": [
       "'Hello'"
      ]
     },
     "execution_count": 50,
     "metadata": {},
     "output_type": "execute_result"
    }
   ],
   "source": [
    "s[0:5] # returns vaues from the zeroth index to n-1 index (5 - 1 = 4th index)"
   ]
  },
  {
   "cell_type": "code",
   "execution_count": 52,
   "id": "cee68e35-a4cf-43be-8658-46a25b02ae23",
   "metadata": {},
   "outputs": [
    {
     "data": {
      "text/plain": [
       "'Hello'"
      ]
     },
     "execution_count": 52,
     "metadata": {},
     "output_type": "execute_result"
    }
   ],
   "source": [
    "s[:5] # returns vaues from the zeroth index to n-1 index (5 - 1 = 4th index)"
   ]
  },
  {
   "cell_type": "code",
   "execution_count": 54,
   "id": "00d7a8d9-c453-4151-91be-631196a327b6",
   "metadata": {},
   "outputs": [
    {
     "data": {
      "text/plain": [
       "'World'"
      ]
     },
     "execution_count": 54,
     "metadata": {},
     "output_type": "execute_result"
    }
   ],
   "source": [
    "s[6:-1] # returns vaues from the sixth index to n-1 index (-1 - 1 = 2nd index)"
   ]
  },
  {
   "cell_type": "markdown",
   "id": "d73fb9d2-7648-4e88-8f26-75766574d113",
   "metadata": {},
   "source": [
    "# 3) In and Not in Operators"
   ]
  },
  {
   "cell_type": "code",
   "execution_count": 57,
   "id": "787e3c8f-fc52-4953-9f76-798c837db902",
   "metadata": {},
   "outputs": [
    {
     "data": {
      "text/plain": [
       "True"
      ]
     },
     "execution_count": 57,
     "metadata": {},
     "output_type": "execute_result"
    }
   ],
   "source": [
    "'Hello' in 'Hello World!'"
   ]
  },
  {
   "cell_type": "code",
   "execution_count": 59,
   "id": "a47ec02f-3016-4ab8-84c1-ac6e834598d5",
   "metadata": {},
   "outputs": [
    {
     "data": {
      "text/plain": [
       "False"
      ]
     },
     "execution_count": 59,
     "metadata": {},
     "output_type": "execute_result"
    }
   ],
   "source": [
    "'Worlds' in 'Hello World'"
   ]
  },
  {
   "cell_type": "code",
   "execution_count": 61,
   "id": "3c7c8bf5-2dca-4db8-bffa-44b18d752957",
   "metadata": {},
   "outputs": [
    {
     "data": {
      "text/plain": [
       "False"
      ]
     },
     "execution_count": 61,
     "metadata": {},
     "output_type": "execute_result"
    }
   ],
   "source": [
    "'Hello' not in 'Hello World!'"
   ]
  },
  {
   "cell_type": "markdown",
   "id": "aec3a2e8-a3a4-466e-a936-f30057ab191f",
   "metadata": {},
   "source": [
    "# 4) upper(), lower(), swapcase(), capitalize() and title() "
   ]
  },
  {
   "cell_type": "code",
   "execution_count": 64,
   "id": "7521fe15-9b0d-4853-99f1-e1223a2b028a",
   "metadata": {},
   "outputs": [],
   "source": [
    "s = 'hello world'"
   ]
  },
  {
   "cell_type": "code",
   "execution_count": 68,
   "id": "ef3c245d-7961-4322-b499-ba371c3ffaf3",
   "metadata": {},
   "outputs": [
    {
     "data": {
      "text/plain": [
       "'HELLO WORLD'"
      ]
     },
     "execution_count": 68,
     "metadata": {},
     "output_type": "execute_result"
    }
   ],
   "source": [
    "s.upper() # changes all the characters to UPPERCASE"
   ]
  },
  {
   "cell_type": "code",
   "execution_count": 70,
   "id": "55b8cbc0-fcd9-4447-a2b8-649791b4f118",
   "metadata": {},
   "outputs": [
    {
     "data": {
      "text/plain": [
       "'hello world'"
      ]
     },
     "execution_count": 70,
     "metadata": {},
     "output_type": "execute_result"
    }
   ],
   "source": [
    "s.lower() # changes all the characters to LOWERCASE"
   ]
  },
  {
   "cell_type": "code",
   "execution_count": 180,
   "id": "945deeaa-dc72-4748-a72a-3285775b3c25",
   "metadata": {},
   "outputs": [
    {
     "data": {
      "text/plain": [
       "'HELLO WORLD'"
      ]
     },
     "execution_count": 180,
     "metadata": {},
     "output_type": "execute_result"
    }
   ],
   "source": [
    "s.swapcase() # changes all LOWERCASES to UPPERCASES and vice-vers"
   ]
  },
  {
   "cell_type": "code",
   "execution_count": 184,
   "id": "3b6d17bc-6729-4fda-a72a-796624fa1b02",
   "metadata": {},
   "outputs": [
    {
     "data": {
      "text/plain": [
       "'Hello world'"
      ]
     },
     "execution_count": 184,
     "metadata": {},
     "output_type": "execute_result"
    }
   ],
   "source": [
    "s.capitalize() # changes the first letter fo the first word to UPPERCASE"
   ]
  },
  {
   "cell_type": "code",
   "execution_count": 74,
   "id": "436d7d8a-5259-4126-b2f1-50821ed1d1ad",
   "metadata": {},
   "outputs": [
    {
     "data": {
      "text/plain": [
       "'Hello World'"
      ]
     },
     "execution_count": 74,
     "metadata": {},
     "output_type": "execute_result"
    }
   ],
   "source": [
    "s.title() # changes the first letter of each word to UPPERCASE"
   ]
  },
  {
   "cell_type": "markdown",
   "id": "3c951191-539d-45fc-9954-6ec8960c80b2",
   "metadata": {},
   "source": [
    "# 5) isupper(), islower()"
   ]
  },
  {
   "cell_type": "code",
   "execution_count": 77,
   "id": "048c3805-5254-4b82-a0d1-0a51e3e0207c",
   "metadata": {},
   "outputs": [],
   "source": [
    "s = 'hello world'"
   ]
  },
  {
   "cell_type": "code",
   "execution_count": 79,
   "id": "beb8fb3c-9b12-4742-beae-762476eac5f2",
   "metadata": {},
   "outputs": [
    {
     "data": {
      "text/plain": [
       "False"
      ]
     },
     "execution_count": 79,
     "metadata": {},
     "output_type": "execute_result"
    }
   ],
   "source": [
    "s.isupper() # checks whether all the characters are in UPPERCASE or not"
   ]
  },
  {
   "cell_type": "code",
   "execution_count": 81,
   "id": "9fefd931-c33c-4b71-8279-0a8e01f473af",
   "metadata": {},
   "outputs": [
    {
     "data": {
      "text/plain": [
       "True"
      ]
     },
     "execution_count": 81,
     "metadata": {},
     "output_type": "execute_result"
    }
   ],
   "source": [
    "s.islower() # checks whether all the characters are in LOWERCASE or not"
   ]
  },
  {
   "cell_type": "markdown",
   "id": "d59dd48f-bfff-49a4-908f-914e54c75b9f",
   "metadata": {},
   "source": [
    "# 6) The isx String Methods"
   ]
  },
  {
   "cell_type": "code",
   "execution_count": 97,
   "id": "0e9182ef-f2d0-4bb4-9378-445048f59241",
   "metadata": {},
   "outputs": [
    {
     "data": {
      "text/plain": [
       "True"
      ]
     },
     "execution_count": 97,
     "metadata": {},
     "output_type": "execute_result"
    }
   ],
   "source": [
    "'Hello'.isalpha() # checks whether the value consists of only alphabets"
   ]
  },
  {
   "cell_type": "code",
   "execution_count": 99,
   "id": "4f4db39e-4c30-4ec8-a1eb-0c26de3d54a0",
   "metadata": {},
   "outputs": [
    {
     "data": {
      "text/plain": [
       "True"
      ]
     },
     "execution_count": 99,
     "metadata": {},
     "output_type": "execute_result"
    }
   ],
   "source": [
    "'Hello'.isalnum() # checks whether the value consists of numbers, alphabets"
   ]
  },
  {
   "cell_type": "code",
   "execution_count": 101,
   "id": "269e1f18-011e-48f6-8630-6b4b698a84d0",
   "metadata": {},
   "outputs": [
    {
     "data": {
      "text/plain": [
       "False"
      ]
     },
     "execution_count": 101,
     "metadata": {},
     "output_type": "execute_result"
    }
   ],
   "source": [
    "'hello'.isdecimal() # checks whether the value cosits of only numbers"
   ]
  },
  {
   "cell_type": "code",
   "execution_count": 103,
   "id": "f2be91dc-7e3f-412e-80e2-4e4015e4482c",
   "metadata": {},
   "outputs": [
    {
     "data": {
      "text/plain": [
       "False"
      ]
     },
     "execution_count": 103,
     "metadata": {},
     "output_type": "execute_result"
    }
   ],
   "source": [
    "'hello'.isspace() # chechs whether the value consists of any spaces, tab, new-line"
   ]
  },
  {
   "cell_type": "code",
   "execution_count": 105,
   "id": "5f91bc00-c183-4ad4-bd26-91acc6e9dc44",
   "metadata": {},
   "outputs": [
    {
     "data": {
      "text/plain": [
       "False"
      ]
     },
     "execution_count": 105,
     "metadata": {},
     "output_type": "execute_result"
    }
   ],
   "source": [
    "'hello'.istitle() # checks whether the first alphabet is UPPERCASE or not"
   ]
  },
  {
   "cell_type": "markdown",
   "id": "ea1e7676-85d0-4fa8-a8bd-f726b7d885f7",
   "metadata": {},
   "source": [
    "# 7) statswith() and endswith()"
   ]
  },
  {
   "cell_type": "code",
   "execution_count": 114,
   "id": "43f6317d-4008-4b68-bbdd-8587df4b9011",
   "metadata": {},
   "outputs": [
    {
     "data": {
      "text/plain": [
       "True"
      ]
     },
     "execution_count": 114,
     "metadata": {},
     "output_type": "execute_result"
    }
   ],
   "source": [
    "'Hello'.startswith('H') # checks whether the value starts with the given argument"
   ]
  },
  {
   "cell_type": "code",
   "execution_count": 116,
   "id": "ca371de7-188c-499f-9aff-96ccd3379172",
   "metadata": {},
   "outputs": [
    {
     "data": {
      "text/plain": [
       "False"
      ]
     },
     "execution_count": 116,
     "metadata": {},
     "output_type": "execute_result"
    }
   ],
   "source": [
    "'Hello'.startswith('h') # checks whether the value starts with the given argument"
   ]
  },
  {
   "cell_type": "code",
   "execution_count": 118,
   "id": "73be47e6-eb0d-41cc-bc46-58f2bdb41e3e",
   "metadata": {},
   "outputs": [
    {
     "data": {
      "text/plain": [
       "True"
      ]
     },
     "execution_count": 118,
     "metadata": {},
     "output_type": "execute_result"
    }
   ],
   "source": [
    "'Hello'.endswith('o') # checks whether the value ends with the given argument"
   ]
  },
  {
   "cell_type": "code",
   "execution_count": 120,
   "id": "e870f7a8-e75b-4a58-8482-c6d76904f79d",
   "metadata": {},
   "outputs": [
    {
     "data": {
      "text/plain": [
       "False"
      ]
     },
     "execution_count": 120,
     "metadata": {},
     "output_type": "execute_result"
    }
   ],
   "source": [
    "'Hello'.endswith('!') # checks whether the value ends with the given argument"
   ]
  },
  {
   "cell_type": "markdown",
   "id": "4816a5ff-d72d-41c7-8948-22057537a877",
   "metadata": {},
   "source": [
    "# 8) join() and split()"
   ]
  },
  {
   "cell_type": "code",
   "execution_count": 133,
   "id": "e0c350e0-57e0-48ea-805e-c32f1b1adb09",
   "metadata": {},
   "outputs": [
    {
     "data": {
      "text/plain": [
       "'HelloWorld!'"
      ]
     },
     "execution_count": 133,
     "metadata": {},
     "output_type": "execute_result"
    }
   ],
   "source": [
    "''.join(['Hello', 'World', '!']) # argument has to be in list format"
   ]
  },
  {
   "cell_type": "code",
   "execution_count": 137,
   "id": "4a888a67-d768-45e2-96a4-e39bdfc48bd4",
   "metadata": {},
   "outputs": [
    {
     "data": {
      "text/plain": [
       "['My', 'name', 'is', 'Akshay']"
      ]
     },
     "execution_count": 137,
     "metadata": {},
     "output_type": "execute_result"
    }
   ],
   "source": [
    "'My name is Akshay'.split() # splits the sentence into a list"
   ]
  },
  {
   "cell_type": "markdown",
   "id": "e0c4881e-09c5-4d0a-9fac-fc15c8477573",
   "metadata": {},
   "source": [
    "# 9) Justifying Text with rjust(), ljust, zfill() and center()"
   ]
  },
  {
   "cell_type": "code",
   "execution_count": 140,
   "id": "52ca4a33-36bf-4c67-8ce3-ad9044c16430",
   "metadata": {},
   "outputs": [
    {
     "data": {
      "text/plain": [
       "'     Hello'"
      ]
     },
     "execution_count": 140,
     "metadata": {},
     "output_type": "execute_result"
    }
   ],
   "source": [
    "'Hello'.rjust(10) # this add 10 spaces to the right"
   ]
  },
  {
   "cell_type": "code",
   "execution_count": 142,
   "id": "cc11c400-bd35-491d-83ab-b94724da8f95",
   "metadata": {},
   "outputs": [
    {
     "data": {
      "text/plain": [
       "'Hello     '"
      ]
     },
     "execution_count": 142,
     "metadata": {},
     "output_type": "execute_result"
    }
   ],
   "source": [
    "'Hello'.ljust(10) # this add 10 spaces to the left"
   ]
  },
  {
   "cell_type": "code",
   "execution_count": 146,
   "id": "87f27b88-ef1c-4c20-9585-7949bcf7eb39",
   "metadata": {},
   "outputs": [
    {
     "data": {
      "text/plain": [
       "'  Hello   '"
      ]
     },
     "execution_count": 146,
     "metadata": {},
     "output_type": "execute_result"
    }
   ],
   "source": [
    "'Hello'.center(10) # this aligns the value to the center with left and right spaces"
   ]
  },
  {
   "cell_type": "code",
   "execution_count": 227,
   "id": "6c6ad6e9-71db-4bef-94b1-e3cac1c441d2",
   "metadata": {},
   "outputs": [
    {
     "data": {
      "text/plain": [
       "'0000000000000000000000000000000000000Hello'"
      ]
     },
     "execution_count": 227,
     "metadata": {},
     "output_type": "execute_result"
    }
   ],
   "source": [
    "'Hello'.zfill(42) # adds zeroes to the left of the value"
   ]
  },
  {
   "cell_type": "markdown",
   "id": "50d05061-e9ee-4f5b-97a3-6e322c4b4482",
   "metadata": {},
   "source": [
    "# 10) Removing Whitespace with strip(), lstrip(), rstrip()"
   ]
  },
  {
   "cell_type": "code",
   "execution_count": 151,
   "id": "423d56d3-9994-490d-a90a-e1827b36a627",
   "metadata": {},
   "outputs": [
    {
     "data": {
      "text/plain": [
       "'Hello World'"
      ]
     },
     "execution_count": 151,
     "metadata": {},
     "output_type": "execute_result"
    }
   ],
   "source": [
    "'     Hello World     '.strip() # removes the spaces on both sides"
   ]
  },
  {
   "cell_type": "code",
   "execution_count": 155,
   "id": "4c28b6f4-45ff-4832-967b-de5134d1086e",
   "metadata": {},
   "outputs": [
    {
     "data": {
      "text/plain": [
       "'Hello World        '"
      ]
     },
     "execution_count": 155,
     "metadata": {},
     "output_type": "execute_result"
    }
   ],
   "source": [
    "'      Hello World        '.lstrip() # removes the spaces on left side"
   ]
  },
  {
   "cell_type": "code",
   "execution_count": 157,
   "id": "d0a96d5d-9f52-4db7-87ae-b50b9772b794",
   "metadata": {},
   "outputs": [
    {
     "data": {
      "text/plain": [
       "'      Hello World'"
      ]
     },
     "execution_count": 157,
     "metadata": {},
     "output_type": "execute_result"
    }
   ],
   "source": [
    "'      Hello World        '.rstrip() # removes the spaces on right side"
   ]
  },
  {
   "cell_type": "markdown",
   "id": "53eaf71e-1208-4b3a-ac22-acbba6fcb7e2",
   "metadata": {},
   "source": [
    "# 11) Count Method"
   ]
  },
  {
   "cell_type": "code",
   "execution_count": 160,
   "id": "a143d0e6-fb6c-4872-ac5a-e04148f25101",
   "metadata": {},
   "outputs": [
    {
     "data": {
      "text/plain": [
       "1"
      ]
     },
     "execution_count": 160,
     "metadata": {},
     "output_type": "execute_result"
    }
   ],
   "source": [
    "'Hello World'.count('Hello') # returns the number of times the argument is repeated"
   ]
  },
  {
   "cell_type": "code",
   "execution_count": 162,
   "id": "8101a1be-c465-4388-9254-d247fb6226a0",
   "metadata": {},
   "outputs": [
    {
     "data": {
      "text/plain": [
       "3"
      ]
     },
     "execution_count": 162,
     "metadata": {},
     "output_type": "execute_result"
    }
   ],
   "source": [
    "'Hello Hello Hello World'.count('Hello') # returns the number of times the argument is repeated"
   ]
  },
  {
   "cell_type": "code",
   "execution_count": 164,
   "id": "92ff408b-0f42-4cd8-8047-494e816cdfdb",
   "metadata": {},
   "outputs": [
    {
     "data": {
      "text/plain": [
       "3"
      ]
     },
     "execution_count": 164,
     "metadata": {},
     "output_type": "execute_result"
    }
   ],
   "source": [
    "'Hello World'.count('l') # returns the number of times the argument is repeated"
   ]
  },
  {
   "cell_type": "code",
   "execution_count": 166,
   "id": "904e5ef8-0e2a-4963-bcb2-ad73fe07ec98",
   "metadata": {},
   "outputs": [
    {
     "data": {
      "text/plain": [
       "2"
      ]
     },
     "execution_count": 166,
     "metadata": {},
     "output_type": "execute_result"
    }
   ],
   "source": [
    "'Hello World'.count('o') # returns the number of times the argument is repeated"
   ]
  },
  {
   "cell_type": "markdown",
   "id": "0453ed23-0226-4fdf-a40c-d2808975de90",
   "metadata": {},
   "source": [
    "# 12) Replace Method"
   ]
  },
  {
   "cell_type": "code",
   "execution_count": 173,
   "id": "cb9aacd6-6769-449b-84b6-5971c6c5a02e",
   "metadata": {},
   "outputs": [
    {
     "data": {
      "text/plain": [
       "'Hello Planet'"
      ]
     },
     "execution_count": 173,
     "metadata": {},
     "output_type": "execute_result"
    }
   ],
   "source": [
    "'Hello World'.replace('World', 'Planet') # replaces the value with passed argument"
   ]
  },
  {
   "cell_type": "code",
   "execution_count": 175,
   "id": "9e3ea928-1fd9-4f67-9a77-428f5d7d0c04",
   "metadata": {},
   "outputs": [
    {
     "data": {
      "text/plain": [
       "'Welcome World'"
      ]
     },
     "execution_count": 175,
     "metadata": {},
     "output_type": "execute_result"
    }
   ],
   "source": [
    "'Hello World'.replace('Hello', 'Welcome') # replaces the value with passed argument"
   ]
  },
  {
   "cell_type": "markdown",
   "id": "8410e40a-90eb-4c1f-807a-538fa067bdc4",
   "metadata": {},
   "source": [
    "# 13) Sequence Operations in String"
   ]
  },
  {
   "cell_type": "code",
   "execution_count": 199,
   "id": "54de9bf7-463e-4381-8e56-2504ec42c6dd",
   "metadata": {},
   "outputs": [],
   "source": [
    "s1 = 'HELLLO'\n",
    "s2 = 'World'"
   ]
  },
  {
   "cell_type": "code",
   "execution_count": 191,
   "id": "8a30f061-16f7-4e7d-b3c2-e8c14fc416e6",
   "metadata": {},
   "outputs": [
    {
     "data": {
      "text/plain": [
       "'HelloWorld'"
      ]
     },
     "execution_count": 191,
     "metadata": {},
     "output_type": "execute_result"
    }
   ],
   "source": [
    "s1 + s2 # joins both the values"
   ]
  },
  {
   "cell_type": "code",
   "execution_count": 193,
   "id": "039883d0-e0c7-4760-afa5-58fd377efc84",
   "metadata": {},
   "outputs": [
    {
     "data": {
      "text/plain": [
       "5"
      ]
     },
     "execution_count": 193,
     "metadata": {},
     "output_type": "execute_result"
    }
   ],
   "source": [
    "len(s1) # returns how many letters are there in the value"
   ]
  },
  {
   "cell_type": "code",
   "execution_count": 201,
   "id": "11487ff7-1bbf-4fe5-998a-ba08d7f2b7bb",
   "metadata": {},
   "outputs": [
    {
     "data": {
      "text/plain": [
       "'E'"
      ]
     },
     "execution_count": 201,
     "metadata": {},
     "output_type": "execute_result"
    }
   ],
   "source": [
    "min(s1) # returns the lowest alphabet in the value"
   ]
  },
  {
   "cell_type": "code",
   "execution_count": 205,
   "id": "0954b2df-08d0-4fa7-b296-bbf9739203ac",
   "metadata": {},
   "outputs": [
    {
     "data": {
      "text/plain": [
       "'O'"
      ]
     },
     "execution_count": 205,
     "metadata": {},
     "output_type": "execute_result"
    }
   ],
   "source": [
    "max(s1)  # returns the largest alphabet in the value"
   ]
  },
  {
   "cell_type": "markdown",
   "id": "236087dc-1802-4ac9-a40f-cd28339fec7c",
   "metadata": {},
   "source": [
    "# 14) Inspection in String"
   ]
  },
  {
   "cell_type": "code",
   "execution_count": 210,
   "id": "cf709e06-cc4a-4c2f-b4eb-f0fa0786fa2d",
   "metadata": {},
   "outputs": [
    {
     "data": {
      "text/plain": [
       "False"
      ]
     },
     "execution_count": 210,
     "metadata": {},
     "output_type": "execute_result"
    }
   ],
   "source": [
    "'Hello World'.isidentifier() # checks if any identifier is present"
   ]
  },
  {
   "cell_type": "code",
   "execution_count": 214,
   "id": "b059a389-b071-46a3-ae50-157806b4b410",
   "metadata": {},
   "outputs": [
    {
     "data": {
      "text/plain": [
       "True"
      ]
     },
     "execution_count": 214,
     "metadata": {},
     "output_type": "execute_result"
    }
   ],
   "source": [
    "\"True\".isidentifier() # checks if any identifier is present"
   ]
  },
  {
   "cell_type": "code",
   "execution_count": 218,
   "id": "219f351e-0708-4ba9-8e75-b542f35f13cb",
   "metadata": {},
   "outputs": [
    {
     "data": {
      "text/plain": [
       "True"
      ]
     },
     "execution_count": 218,
     "metadata": {},
     "output_type": "execute_result"
    }
   ],
   "source": [
    "'Hello World'.isprintable() # checks if any the value is printable or not"
   ]
  }
 ],
 "metadata": {
  "kernelspec": {
   "display_name": "Python 3 (ipykernel)",
   "language": "python",
   "name": "python3"
  },
  "language_info": {
   "codemirror_mode": {
    "name": "ipython",
    "version": 3
   },
   "file_extension": ".py",
   "mimetype": "text/x-python",
   "name": "python",
   "nbconvert_exporter": "python",
   "pygments_lexer": "ipython3",
   "version": "3.12.7"
  }
 },
 "nbformat": 4,
 "nbformat_minor": 5
}
