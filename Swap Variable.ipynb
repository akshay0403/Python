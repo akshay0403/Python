{
 "cells": [
  {
   "cell_type": "markdown",
   "id": "6866c48a-9d84-4f35-8616-e966700a5f25",
   "metadata": {},
   "source": [
    "# How to Swap a Variable in Python"
   ]
  },
  {
   "cell_type": "markdown",
   "id": "b948a9a0-8076-4264-a613-f2e6065ac883",
   "metadata": {},
   "source": [
    "# Method - 1: Re-assigning the Values"
   ]
  },
  {
   "cell_type": "code",
   "execution_count": 18,
   "id": "937e369c-5c6c-46f9-9df3-5adc01db26ab",
   "metadata": {},
   "outputs": [],
   "source": [
    "a = 5\n",
    "b = 6"
   ]
  },
  {
   "cell_type": "code",
   "execution_count": 20,
   "id": "ac6bef51-d50b-477d-83a9-db6bdfe4eb72",
   "metadata": {},
   "outputs": [
    {
     "name": "stdout",
     "output_type": "stream",
     "text": [
      "6\n",
      "6\n"
     ]
    }
   ],
   "source": [
    "a = b # we are re-assigning the variable withe different value\n",
    "b = a # we are re-assigning the variable withe different value\n",
    "print(a)\n",
    "print(b)"
   ]
  },
  {
   "cell_type": "code",
   "execution_count": 22,
   "id": "f416f66b-4edb-46c6-ad1f-01656d4eda0b",
   "metadata": {},
   "outputs": [
    {
     "name": "stdout",
     "output_type": "stream",
     "text": [
      "6\n",
      "6\n"
     ]
    }
   ],
   "source": [
    "a,b = b,a\n",
    "print(a)\n",
    "print(b)"
   ]
  },
  {
   "cell_type": "markdown",
   "id": "839e8253-ef70-410c-abb7-aef4b45f65a7",
   "metadata": {},
   "source": [
    "# Method - 2: Using Temp Variable"
   ]
  },
  {
   "cell_type": "code",
   "execution_count": 35,
   "id": "74643698-d651-4e30-8d8c-b7f0abc90a7a",
   "metadata": {},
   "outputs": [],
   "source": [
    "a1 = 7\n",
    "b1 = 8"
   ]
  },
  {
   "cell_type": "code",
   "execution_count": 37,
   "id": "f45809b0-c98a-4b39-b36f-1e873aaeece5",
   "metadata": {},
   "outputs": [],
   "source": [
    "temp = a1\n",
    "a1 = b1\n",
    "b1 = temp"
   ]
  },
  {
   "cell_type": "code",
   "execution_count": 39,
   "id": "519ab7b7-c4cc-4c3b-ab56-a97095f91f4d",
   "metadata": {},
   "outputs": [
    {
     "name": "stdout",
     "output_type": "stream",
     "text": [
      "8\n",
      "7\n"
     ]
    }
   ],
   "source": [
    "print(a1)\n",
    "print(b1)"
   ]
  },
  {
   "cell_type": "markdown",
   "id": "a51c3d42-1a7f-4e26-b90c-78d83d94ec56",
   "metadata": {},
   "source": [
    "# Method - 3: Using Operators"
   ]
  },
  {
   "cell_type": "code",
   "execution_count": 44,
   "id": "7f82df3f-e6dd-46d0-95f6-d6d18eba60ed",
   "metadata": {},
   "outputs": [],
   "source": [
    "a2 = 5\n",
    "b2 = 6"
   ]
  },
  {
   "cell_type": "code",
   "execution_count": 46,
   "id": "80322627-16c4-4bbb-b73a-e826f3eddf76",
   "metadata": {},
   "outputs": [],
   "source": [
    "a2 = a2 + b2 # a2 = 5 + 6 = 11\n",
    "b2 = a2 - b2 # b2 = 11 - 6 = 5\n",
    "a2 = a2 - b2 # a2 = 11 - 5 = 6"
   ]
  },
  {
   "cell_type": "code",
   "execution_count": 48,
   "id": "30efb5aa-d27b-499f-acf7-3b6ba8ddc419",
   "metadata": {},
   "outputs": [
    {
     "name": "stdout",
     "output_type": "stream",
     "text": [
      "6\n",
      "5\n"
     ]
    }
   ],
   "source": [
    "print(a2)\n",
    "print(b2)"
   ]
  },
  {
   "cell_type": "markdown",
   "id": "f555d322-7af3-4920-b86c-6db5cb48ba1d",
   "metadata": {},
   "source": [
    "# Method - 4: Using XOR Operation"
   ]
  },
  {
   "cell_type": "code",
   "execution_count": 53,
   "id": "f7061d83-5b5a-4b6b-b5d3-b3035b1a3333",
   "metadata": {},
   "outputs": [],
   "source": [
    "a3 = 5\n",
    "b3 = 6"
   ]
  },
  {
   "cell_type": "code",
   "execution_count": 59,
   "id": "3316c0cd-f786-4108-9a4a-41db224a1d34",
   "metadata": {},
   "outputs": [],
   "source": [
    "a3 = a3 ^ b3\n",
    "b3 = a3 ^ b3\n",
    "a3 = a3 ^ b3"
   ]
  },
  {
   "cell_type": "code",
   "execution_count": 61,
   "id": "0bc81cf6-20ac-4047-8c65-69b6b2598ff7",
   "metadata": {},
   "outputs": [
    {
     "name": "stdout",
     "output_type": "stream",
     "text": [
      "6\n",
      "5\n"
     ]
    }
   ],
   "source": [
    "print(a3)\n",
    "print(b3)"
   ]
  }
 ],
 "metadata": {
  "kernelspec": {
   "display_name": "Python 3 (ipykernel)",
   "language": "python",
   "name": "python3"
  },
  "language_info": {
   "codemirror_mode": {
    "name": "ipython",
    "version": 3
   },
   "file_extension": ".py",
   "mimetype": "text/x-python",
   "name": "python",
   "nbconvert_exporter": "python",
   "pygments_lexer": "ipython3",
   "version": "3.12.7"
  }
 },
 "nbformat": 4,
 "nbformat_minor": 5
}
