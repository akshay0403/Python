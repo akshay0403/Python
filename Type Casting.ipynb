{
 "cells": [
  {
   "cell_type": "markdown",
   "id": "99f00650-ea14-41ad-82fa-ea184be6d0b0",
   "metadata": {},
   "source": [
    "# Other Data Type to int"
   ]
  },
  {
   "cell_type": "code",
   "execution_count": 13,
   "id": "f1065180-b4b2-4720-9412-772192e13bbe",
   "metadata": {},
   "outputs": [
    {
     "data": {
      "text/plain": [
       "3"
      ]
     },
     "execution_count": 13,
     "metadata": {},
     "output_type": "execute_result"
    }
   ],
   "source": [
    "int(3.4) # when converting float -> int, only the first number will be counted (as int is number without decimal)"
   ]
  },
  {
   "cell_type": "code",
   "execution_count": 15,
   "id": "f1dadfab-e6d5-4eeb-b3cc-82fc6495939e",
   "metadata": {},
   "outputs": [
    {
     "data": {
      "text/plain": [
       "1"
      ]
     },
     "execution_count": 15,
     "metadata": {},
     "output_type": "execute_result"
    }
   ],
   "source": [
    "int(True) # when converting bool(True) -> int, it prints '1' because True = 1"
   ]
  },
  {
   "cell_type": "code",
   "execution_count": 17,
   "id": "d9612622-5da4-4912-b425-d399a77675c6",
   "metadata": {},
   "outputs": [
    {
     "data": {
      "text/plain": [
       "0"
      ]
     },
     "execution_count": 17,
     "metadata": {},
     "output_type": "execute_result"
    }
   ],
   "source": [
    "int(False) # when converting bool(False) -> int, it prints '0' because False = "
   ]
  },
  {
   "cell_type": "code",
   "execution_count": 19,
   "id": "37ec4266-47e9-4479-8394-b9391e908946",
   "metadata": {},
   "outputs": [
    {
     "data": {
      "text/plain": [
       "10"
      ]
     },
     "execution_count": 19,
     "metadata": {},
     "output_type": "execute_result"
    }
   ],
   "source": [
    "int('10') # when converting string -> int, we can print number because it prints what is in the quotes"
   ]
  },
  {
   "cell_type": "code",
   "execution_count": 23,
   "id": "c087aaaa-3240-462b-adc8-7c16010ecf5f",
   "metadata": {},
   "outputs": [
    {
     "ename": "ValueError",
     "evalue": "invalid literal for int() with base 10: 'text'",
     "output_type": "error",
     "traceback": [
      "\u001b[1;31m---------------------------------------------------------------------------\u001b[0m",
      "\u001b[1;31mValueError\u001b[0m                                Traceback (most recent call last)",
      "Cell \u001b[1;32mIn[23], line 1\u001b[0m\n\u001b[1;32m----> 1\u001b[0m \u001b[38;5;28mint\u001b[39m(\u001b[38;5;124m\"\u001b[39m\u001b[38;5;124mtext\u001b[39m\u001b[38;5;124m\"\u001b[39m)\n",
      "\u001b[1;31mValueError\u001b[0m: invalid literal for int() with base 10: 'text'"
     ]
    }
   ],
   "source": [
    "int(\"text\") # when converting string -> int, we cannot print text because it prints what is in the quotes"
   ]
  },
  {
   "cell_type": "code",
   "execution_count": 25,
   "id": "ed41e0f8-c9af-4823-a342-9bcd89616a05",
   "metadata": {},
   "outputs": [
    {
     "ename": "TypeError",
     "evalue": "int() argument must be a string, a bytes-like object or a real number, not 'complex'",
     "output_type": "error",
     "traceback": [
      "\u001b[1;31m---------------------------------------------------------------------------\u001b[0m",
      "\u001b[1;31mTypeError\u001b[0m                                 Traceback (most recent call last)",
      "Cell \u001b[1;32mIn[25], line 1\u001b[0m\n\u001b[1;32m----> 1\u001b[0m \u001b[38;5;28mint\u001b[39m(\u001b[38;5;241m1\u001b[39m\u001b[38;5;241m+\u001b[39m\u001b[38;5;241m2\u001b[39mj)\n",
      "\u001b[1;31mTypeError\u001b[0m: int() argument must be a string, a bytes-like object or a real number, not 'complex'"
     ]
    }
   ],
   "source": [
    "int(1+2j) # when converting complex -> int, it gives error because it can only take real values"
   ]
  },
  {
   "cell_type": "markdown",
   "id": "587c9b87-db68-4e0a-ba0b-f374d02000c0",
   "metadata": {},
   "source": [
    "# Other Data Type to float"
   ]
  },
  {
   "cell_type": "code",
   "execution_count": 28,
   "id": "536a615b-9270-463a-a1c3-a29d976c0b8f",
   "metadata": {},
   "outputs": [
    {
     "data": {
      "text/plain": [
       "1.0"
      ]
     },
     "execution_count": 28,
     "metadata": {},
     "output_type": "execute_result"
    }
   ],
   "source": [
    "float(1) # when converting int -> float, it prints 1.0 (as float is a number with decimal point)"
   ]
  },
  {
   "cell_type": "code",
   "execution_count": 30,
   "id": "c42d702e-c61b-4d84-bd22-caf60dd38bee",
   "metadata": {},
   "outputs": [
    {
     "data": {
      "text/plain": [
       "1.0"
      ]
     },
     "execution_count": 30,
     "metadata": {},
     "output_type": "execute_result"
    }
   ],
   "source": [
    "float(True) # when converting bool(True) -> float, it prints 1.0 (as float is a number with decimal point) & float value of True = 1.0"
   ]
  },
  {
   "cell_type": "code",
   "execution_count": 32,
   "id": "ab08a428-dba7-4143-82da-966d1305cc00",
   "metadata": {},
   "outputs": [
    {
     "data": {
      "text/plain": [
       "0.0"
      ]
     },
     "execution_count": 32,
     "metadata": {},
     "output_type": "execute_result"
    }
   ],
   "source": [
    "float(False) # when converting bool(False) -> float, it prints 0.0 (as float is a number with decimal point) & float value of False = 0.0"
   ]
  },
  {
   "cell_type": "code",
   "execution_count": 34,
   "id": "a3b86084-17c6-47ab-9202-c51401ece8be",
   "metadata": {},
   "outputs": [
    {
     "ename": "ValueError",
     "evalue": "could not convert string to float: 'text'",
     "output_type": "error",
     "traceback": [
      "\u001b[1;31m---------------------------------------------------------------------------\u001b[0m",
      "\u001b[1;31mValueError\u001b[0m                                Traceback (most recent call last)",
      "Cell \u001b[1;32mIn[34], line 1\u001b[0m\n\u001b[1;32m----> 1\u001b[0m \u001b[38;5;28mfloat\u001b[39m(\u001b[38;5;124m\"\u001b[39m\u001b[38;5;124mtext\u001b[39m\u001b[38;5;124m\"\u001b[39m)\n",
      "\u001b[1;31mValueError\u001b[0m: could not convert string to float: 'text'"
     ]
    }
   ],
   "source": [
    "float(\"text\") # when converting string -> float, it gives error because float only takes real values"
   ]
  },
  {
   "cell_type": "code",
   "execution_count": 36,
   "id": "d356ad89-f36b-49ac-8340-c1c9c9e07b96",
   "metadata": {},
   "outputs": [
    {
     "data": {
      "text/plain": [
       "10.0"
      ]
     },
     "execution_count": 36,
     "metadata": {},
     "output_type": "execute_result"
    }
   ],
   "source": [
    "float('10') # when converting string -> float, we can print number as it is a real value"
   ]
  },
  {
   "cell_type": "code",
   "execution_count": 38,
   "id": "b2f7983c-374d-41bf-96f6-7e326ef62317",
   "metadata": {},
   "outputs": [
    {
     "ename": "TypeError",
     "evalue": "float() argument must be a string or a real number, not 'complex'",
     "output_type": "error",
     "traceback": [
      "\u001b[1;31m---------------------------------------------------------------------------\u001b[0m",
      "\u001b[1;31mTypeError\u001b[0m                                 Traceback (most recent call last)",
      "Cell \u001b[1;32mIn[38], line 1\u001b[0m\n\u001b[1;32m----> 1\u001b[0m \u001b[38;5;28mfloat\u001b[39m(\u001b[38;5;241m1\u001b[39m\u001b[38;5;241m+\u001b[39m\u001b[38;5;241m2\u001b[39mj)\n",
      "\u001b[1;31mTypeError\u001b[0m: float() argument must be a string or a real number, not 'complex'"
     ]
    }
   ],
   "source": [
    "float(1+2j) # when converting complex -> float, it gives error because float only takes real values"
   ]
  },
  {
   "cell_type": "markdown",
   "id": "8da115ce-ea6d-4c79-8c6e-f98c9b2ab48c",
   "metadata": {},
   "source": [
    "# Other Data Type to boolean"
   ]
  },
  {
   "cell_type": "code",
   "execution_count": 51,
   "id": "798ff951-af29-485c-bfc3-b88bf8546522",
   "metadata": {},
   "outputs": [
    {
     "data": {
      "text/plain": [
       "True"
      ]
     },
     "execution_count": 51,
     "metadata": {},
     "output_type": "execute_result"
    }
   ],
   "source": [
    "bool(1) # when converting int -> bool, it prints True until we pass a zero value"
   ]
  },
  {
   "cell_type": "code",
   "execution_count": 53,
   "id": "5bb16515-078c-4369-8e80-9e2ac2c30ee0",
   "metadata": {},
   "outputs": [
    {
     "data": {
      "text/plain": [
       "False"
      ]
     },
     "execution_count": 53,
     "metadata": {},
     "output_type": "execute_result"
    }
   ],
   "source": [
    "bool(0) # when converting int -> bool, it prints False as we passed a zero value"
   ]
  },
  {
   "cell_type": "code",
   "execution_count": 59,
   "id": "669818bf-259e-4247-9ec7-ee4a9764b02b",
   "metadata": {},
   "outputs": [
    {
     "data": {
      "text/plain": [
       "True"
      ]
     },
     "execution_count": 59,
     "metadata": {},
     "output_type": "execute_result"
    }
   ],
   "source": [
    "bool(2.0) # when converting float -> bool, it prints True until we pass a zero value"
   ]
  },
  {
   "cell_type": "code",
   "execution_count": 55,
   "id": "cb598563-eb93-4060-a410-e77e2e247bc1",
   "metadata": {},
   "outputs": [
    {
     "data": {
      "text/plain": [
       "True"
      ]
     },
     "execution_count": 55,
     "metadata": {},
     "output_type": "execute_result"
    }
   ],
   "source": [
    "bool('10') # when converting string -> bool, it prints True until we pass a zero value"
   ]
  },
  {
   "cell_type": "code",
   "execution_count": 57,
   "id": "471e7c0a-9c74-4cd1-b04a-f6b6db237060",
   "metadata": {},
   "outputs": [
    {
     "data": {
      "text/plain": [
       "True"
      ]
     },
     "execution_count": 57,
     "metadata": {},
     "output_type": "execute_result"
    }
   ],
   "source": [
    "bool('ten') # when converting string -> bool, it prints True until we pass a zero value"
   ]
  },
  {
   "cell_type": "code",
   "execution_count": 67,
   "id": "8b5908b8-5263-4a0d-bf49-57be483ea384",
   "metadata": {},
   "outputs": [
    {
     "data": {
      "text/plain": [
       "True"
      ]
     },
     "execution_count": 67,
     "metadata": {},
     "output_type": "execute_result"
    }
   ],
   "source": [
    "bool(1+2j) # when converting complex -> bool, it prints True until we pass a zero value"
   ]
  },
  {
   "cell_type": "code",
   "execution_count": 69,
   "id": "2b277a71-1ce0-4440-98e1-f0a9a262d55d",
   "metadata": {},
   "outputs": [
    {
     "data": {
      "text/plain": [
       "False"
      ]
     },
     "execution_count": 69,
     "metadata": {},
     "output_type": "execute_result"
    }
   ],
   "source": [
    "bool(0+0j) # when converting complex -> bool, it prints False as we passed a zero value"
   ]
  },
  {
   "cell_type": "markdown",
   "id": "3895e7ba-39cc-438e-a797-2dcb606f538b",
   "metadata": {},
   "source": [
    "# Other Data Type to string"
   ]
  },
  {
   "cell_type": "code",
   "execution_count": 72,
   "id": "7589bd59-7ce2-4a1a-b404-b8148669517c",
   "metadata": {},
   "outputs": [
    {
     "data": {
      "text/plain": [
       "'10'"
      ]
     },
     "execution_count": 72,
     "metadata": {},
     "output_type": "execute_result"
    }
   ],
   "source": [
    "str(10) # when converting int -> string, we get the value printed in quotes (as string is a group of characters in quotes)"
   ]
  },
  {
   "cell_type": "code",
   "execution_count": 74,
   "id": "d45ebfdd-5e08-454b-b520-6928b285ac80",
   "metadata": {},
   "outputs": [
    {
     "data": {
      "text/plain": [
       "'10.1'"
      ]
     },
     "execution_count": 74,
     "metadata": {},
     "output_type": "execute_result"
    }
   ],
   "source": [
    "str(10.10) # when converting float -> string, we get the value printed in quotes (as string is a group of characters in quotes)"
   ]
  },
  {
   "cell_type": "code",
   "execution_count": 76,
   "id": "f377fcef-ff70-4d6b-8652-7f3f4921d0f3",
   "metadata": {},
   "outputs": [
    {
     "data": {
      "text/plain": [
       "'ten'"
      ]
     },
     "execution_count": 76,
     "metadata": {},
     "output_type": "execute_result"
    }
   ],
   "source": [
    "str('ten') # when converting string -> string, we get the value printed in quotes (as string is a group of characters in quotes)"
   ]
  },
  {
   "cell_type": "code",
   "execution_count": 78,
   "id": "a0f96a00-d8a4-46b6-8476-320fdd3edabe",
   "metadata": {},
   "outputs": [
    {
     "data": {
      "text/plain": [
       "'10'"
      ]
     },
     "execution_count": 78,
     "metadata": {},
     "output_type": "execute_result"
    }
   ],
   "source": [
    "str('10') # when converting string -> string, we get the value printed in quotes (as string is a group of characters in quotes)"
   ]
  },
  {
   "cell_type": "code",
   "execution_count": 80,
   "id": "882ea60f-3bc3-459f-b0aa-ac73baae3fb2",
   "metadata": {},
   "outputs": [
    {
     "data": {
      "text/plain": [
       "'True'"
      ]
     },
     "execution_count": 80,
     "metadata": {},
     "output_type": "execute_result"
    }
   ],
   "source": [
    "str(True) # when converting bool -> string, we get the value printed in quotes (as string is a group of characters in quotes)"
   ]
  },
  {
   "cell_type": "code",
   "execution_count": 82,
   "id": "e23e6477-6015-414a-a801-6a903e31ec59",
   "metadata": {},
   "outputs": [
    {
     "data": {
      "text/plain": [
       "'False'"
      ]
     },
     "execution_count": 82,
     "metadata": {},
     "output_type": "execute_result"
    }
   ],
   "source": [
    "str(False) # when converting bool -> string, we get the value printed in quotes (as string is a group of characters in quotes)"
   ]
  },
  {
   "cell_type": "code",
   "execution_count": 84,
   "id": "84f19f70-22a9-4321-ada8-30a4217a266e",
   "metadata": {},
   "outputs": [
    {
     "data": {
      "text/plain": [
       "'(1+2j)'"
      ]
     },
     "execution_count": 84,
     "metadata": {},
     "output_type": "execute_result"
    }
   ],
   "source": [
    "str(1+2j) # when converting complex -> string, we get the value printed in quotes (as string is a group of characters in quotes)"
   ]
  },
  {
   "cell_type": "markdown",
   "id": "e9edb78a-9425-4409-a67b-1d06688e6e52",
   "metadata": {},
   "source": [
    "# Other Data Type to complex"
   ]
  },
  {
   "cell_type": "code",
   "execution_count": 86,
   "id": "f706e454-5ea0-47a4-8b02-ef90ca9d4b35",
   "metadata": {},
   "outputs": [],
   "source": [
    "# complex can either have 2 arguments or, if we pass singlw argumnet it gets counted as real value"
   ]
  },
  {
   "cell_type": "code",
   "execution_count": 88,
   "id": "46d803dc-f9c0-48f6-8730-94cf922f0fc9",
   "metadata": {},
   "outputs": [
    {
     "data": {
      "text/plain": [
       "(1+2j)"
      ]
     },
     "execution_count": 88,
     "metadata": {},
     "output_type": "execute_result"
    }
   ],
   "source": [
    "complex(1, 2) # when converting int -> complex, we get the value printed in (a+bj) format (as complex is in the form a+bj)"
   ]
  },
  {
   "cell_type": "code",
   "execution_count": 90,
   "id": "ec4765a5-e4c6-4421-bcb4-8922a2bdb6c3",
   "metadata": {},
   "outputs": [
    {
     "data": {
      "text/plain": [
       "(32+4j)"
      ]
     },
     "execution_count": 90,
     "metadata": {},
     "output_type": "execute_result"
    }
   ],
   "source": [
    "complex(32.0, 4) # when converting float -> complex, we get the value printed in (a+bj) format (as complex is in the form a+bj), a = real value so no decimal"
   ]
  },
  {
   "cell_type": "code",
   "execution_count": 92,
   "id": "a4ef6b3c-af14-43c0-8929-671d83fe0e05",
   "metadata": {},
   "outputs": [
    {
     "ename": "ValueError",
     "evalue": "complex() arg is a malformed string",
     "output_type": "error",
     "traceback": [
      "\u001b[1;31m---------------------------------------------------------------------------\u001b[0m",
      "\u001b[1;31mValueError\u001b[0m                                Traceback (most recent call last)",
      "Cell \u001b[1;32mIn[92], line 1\u001b[0m\n\u001b[1;32m----> 1\u001b[0m \u001b[38;5;28mcomplex\u001b[39m(\u001b[38;5;124m'\u001b[39m\u001b[38;5;124mten\u001b[39m\u001b[38;5;124m'\u001b[39m)\n",
      "\u001b[1;31mValueError\u001b[0m: complex() arg is a malformed string"
     ]
    }
   ],
   "source": [
    "complex('ten') # when converting string -> complex, we get error because it can only take integer values, not text"
   ]
  },
  {
   "cell_type": "code",
   "execution_count": 94,
   "id": "1882367e-1f55-4cf6-badb-f7b856427d6f",
   "metadata": {},
   "outputs": [
    {
     "data": {
      "text/plain": [
       "(10+0j)"
      ]
     },
     "execution_count": 94,
     "metadata": {},
     "output_type": "execute_result"
    }
   ],
   "source": [
    "complex('10') # when converting string -> complex, we get the value printed because 10 is an integer value"
   ]
  },
  {
   "cell_type": "code",
   "execution_count": 96,
   "id": "07b6af72-efdf-4424-9d51-47fd480055c8",
   "metadata": {},
   "outputs": [
    {
     "data": {
      "text/plain": [
       "(1+0j)"
      ]
     },
     "execution_count": 96,
     "metadata": {},
     "output_type": "execute_result"
    }
   ],
   "source": [
    "complex(True) # when converting bool -> complex, we get the value printed in (a+bj) format (as complex is in the form a+bj), True = 1"
   ]
  },
  {
   "cell_type": "code",
   "execution_count": 98,
   "id": "bacf4bd9-3019-4403-acad-19c70897ddb9",
   "metadata": {},
   "outputs": [
    {
     "data": {
      "text/plain": [
       "0j"
      ]
     },
     "execution_count": 98,
     "metadata": {},
     "output_type": "execute_result"
    }
   ],
   "source": [
    "complex(False) # when converting bool -> complex, we get the value printed in (a+bj) format (as complex is in the form a+bj), False = 1"
   ]
  },
  {
   "cell_type": "code",
   "execution_count": 100,
   "id": "5540a422-1cd0-4998-b743-c195b4527bcc",
   "metadata": {},
   "outputs": [
    {
     "data": {
      "text/plain": [
       "(1+3j)"
      ]
     },
     "execution_count": 100,
     "metadata": {},
     "output_type": "execute_result"
    }
   ],
   "source": [
    "complex(1+3j) # when converting complex -> complex, we get the value printed in (a+bj) format (as complex is in the form a+bj)"
   ]
  },
  {
   "cell_type": "code",
   "execution_count": 102,
   "id": "200cf1e7-5a05-477a-8414-59b487a1ea4a",
   "metadata": {},
   "outputs": [
    {
     "ename": "TypeError",
     "evalue": "complex() takes at most 2 arguments (3 given)",
     "output_type": "error",
     "traceback": [
      "\u001b[1;31m---------------------------------------------------------------------------\u001b[0m",
      "\u001b[1;31mTypeError\u001b[0m                                 Traceback (most recent call last)",
      "Cell \u001b[1;32mIn[102], line 1\u001b[0m\n\u001b[1;32m----> 1\u001b[0m \u001b[38;5;28mcomplex\u001b[39m(\u001b[38;5;241m10\u001b[39m,\u001b[38;5;241m20\u001b[39m,\u001b[38;5;241m30\u001b[39m)\n",
      "\u001b[1;31mTypeError\u001b[0m: complex() takes at most 2 arguments (3 given)"
     ]
    }
   ],
   "source": [
    "complex(10,20,30) # when converting int -> complex, we get error because it can only take 2 parameters, real and imaginary"
   ]
  },
  {
   "cell_type": "code",
   "execution_count": 75,
   "id": "7d249d82-7f62-4cb8-b8f1-67a4117062a9",
   "metadata": {},
   "outputs": [
    {
     "data": {
      "text/plain": [
       "(1+5.8j)"
      ]
     },
     "execution_count": 75,
     "metadata": {},
     "output_type": "execute_result"
    }
   ],
   "source": [
    "complex(1+5.8j) # we can use int and float arguments also"
   ]
  },
  {
   "cell_type": "code",
   "execution_count": 104,
   "id": "768ae822-13ac-4788-b40e-35a158fe4cf7",
   "metadata": {},
   "outputs": [
    {
     "data": {
      "text/plain": [
       "1j"
      ]
     },
     "execution_count": 104,
     "metadata": {},
     "output_type": "execute_result"
    }
   ],
   "source": [
    "complex(False, True) # False = 0, True =1"
   ]
  },
  {
   "cell_type": "code",
   "execution_count": 106,
   "id": "8dcd92aa-3f23-4f2c-b795-e1e573d4df7a",
   "metadata": {},
   "outputs": [
    {
     "data": {
      "text/plain": [
       "0j"
      ]
     },
     "execution_count": 106,
     "metadata": {},
     "output_type": "execute_result"
    }
   ],
   "source": [
    "complex(False, False) # False = 0"
   ]
  },
  {
   "cell_type": "code",
   "execution_count": 108,
   "id": "a53febb6-80e5-4b54-85c3-2ea7fb9abff5",
   "metadata": {},
   "outputs": [
    {
     "data": {
      "text/plain": [
       "(1+1j)"
      ]
     },
     "execution_count": 108,
     "metadata": {},
     "output_type": "execute_result"
    }
   ],
   "source": [
    "complex(True, True) # True = 1\n"
   ]
  },
  {
   "cell_type": "code",
   "execution_count": 110,
   "id": "94197233-a5a2-4655-ac37-a8c7a66e9500",
   "metadata": {},
   "outputs": [
    {
     "ename": "TypeError",
     "evalue": "complex() second arg can't be a string",
     "output_type": "error",
     "traceback": [
      "\u001b[1;31m---------------------------------------------------------------------------\u001b[0m",
      "\u001b[1;31mTypeError\u001b[0m                                 Traceback (most recent call last)",
      "Cell \u001b[1;32mIn[110], line 1\u001b[0m\n\u001b[1;32m----> 1\u001b[0m \u001b[38;5;28mcomplex\u001b[39m(\u001b[38;5;241m10\u001b[39m, \u001b[38;5;124m'\u001b[39m\u001b[38;5;124ma\u001b[39m\u001b[38;5;124m'\u001b[39m)\n",
      "\u001b[1;31mTypeError\u001b[0m: complex() second arg can't be a string"
     ]
    }
   ],
   "source": [
    "complex(10, 'a') # we cannot pass string arguments"
   ]
  },
  {
   "cell_type": "code",
   "execution_count": 112,
   "id": "678bc645-83ba-4fbb-ba20-fc619018240b",
   "metadata": {},
   "outputs": [
    {
     "ename": "TypeError",
     "evalue": "complex() can't take second arg if first is a string",
     "output_type": "error",
     "traceback": [
      "\u001b[1;31m---------------------------------------------------------------------------\u001b[0m",
      "\u001b[1;31mTypeError\u001b[0m                                 Traceback (most recent call last)",
      "Cell \u001b[1;32mIn[112], line 1\u001b[0m\n\u001b[1;32m----> 1\u001b[0m \u001b[38;5;28mcomplex\u001b[39m(\u001b[38;5;124m'\u001b[39m\u001b[38;5;124m10\u001b[39m\u001b[38;5;124m'\u001b[39m, \u001b[38;5;124m'\u001b[39m\u001b[38;5;124m20\u001b[39m\u001b[38;5;124m'\u001b[39m)\n",
      "\u001b[1;31mTypeError\u001b[0m: complex() can't take second arg if first is a string"
     ]
    }
   ],
   "source": [
    "complex('10', '20') # we cannot pass string arguments"
   ]
  }
 ],
 "metadata": {
  "kernelspec": {
   "display_name": "Python 3 (ipykernel)",
   "language": "python",
   "name": "python3"
  },
  "language_info": {
   "codemirror_mode": {
    "name": "ipython",
    "version": 3
   },
   "file_extension": ".py",
   "mimetype": "text/x-python",
   "name": "python",
   "nbconvert_exporter": "python",
   "pygments_lexer": "ipython3",
   "version": "3.12.7"
  }
 },
 "nbformat": 4,
 "nbformat_minor": 5
}
